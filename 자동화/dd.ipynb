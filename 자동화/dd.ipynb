{
 "cells": [
  {
   "cell_type": "code",
   "execution_count": 94,
   "metadata": {},
   "outputs": [],
   "source": [
    "import pandas as pd\n",
    "import numpy as np\n",
    "import time\n",
    "import re\n",
    "import requests\n",
    "import pickle\n",
    "import joblib\n",
    "\n",
    "from tensorflow.keras.preprocessing import sequence\n",
    "from tensorflow.keras.preprocessing.text import Tokenizer\n",
    "from eunjeon import Mecab\n",
    "from keras.models import load_model\n",
    "from selenium import webdriver\n",
    "from selenium.webdriver.common.by import By\n",
    "from selenium.webdriver.common.keys import Keys\n",
    "from bs4 import BeautifulSoup\n",
    "from dateutil.relativedelta import relativedelta\n",
    "from datetime import datetime"
   ]
  },
  {
   "cell_type": "code",
   "execution_count": 3,
   "metadata": {},
   "outputs": [
    {
     "name": "stderr",
     "output_type": "stream",
     "text": [
      "C:\\Users\\dbswo\\AppData\\Local\\Temp\\ipykernel_23540\\2958740178.py:9: SettingWithCopyWarning: \n",
      "A value is trying to be set on a copy of a slice from a DataFrame\n",
      "\n",
      "See the caveats in the documentation: https://pandas.pydata.org/pandas-docs/stable/user_guide/indexing.html#returning-a-view-versus-a-copy\n",
      "  재무제표[column_list[i]][j]=재무제표[column_list[i+1]][j]\n"
     ]
    }
   ],
   "source": [
    "재무제표 = pd.read_csv('기업재무제표.csv', encoding='cp949')\n",
    "\n",
    "column_list = 재무제표.columns[3:]\n",
    "\n",
    "\n",
    "for i in np.arange(0,len(column_list),2):\n",
    "    for j in range(재무제표.shape[0]):\n",
    "        if np.isnan(재무제표[column_list[i]][j]) :\n",
    "            재무제표[column_list[i]][j]=재무제표[column_list[i+1]][j]\n",
    "\n",
    "재무제표=재무제표.drop(재무제표.columns[np.arange(4, (len(재무제표.columns)+1),2)],axis=1)\n",
    "\n",
    "columns_ = ['회사명', '거래소코드', '회계년도', '자산', '영업이익', '부채', '자본', '매출액', '유동자산', '유동부채', '이익잉여금']\n",
    "재무제표.columns = columns_"
   ]
  },
  {
   "cell_type": "code",
   "execution_count": 5,
   "metadata": {},
   "outputs": [],
   "source": [
    "재무제표['운전자본'] = 재무제표['유동자산']-재무제표['유동부채']\n",
    "재무제표['자기자본'] = 재무제표['자산']-재무제표['부채']\n",
    "\n",
    "재무제표['운전자산총자본비율'] = (재무제표['운전자본'] / 재무제표['자산']) * 100\n",
    "재무제표['이익잉여금총자산비율'] = (재무제표['이익잉여금'] / 재무제표['자산']) * 100\n",
    "재무제표['총자산이익율'] = (재무제표['영업이익'] / 재무제표['자산']) * 100\n",
    "재무제표['시장가부채비율'] = (재무제표['자산'] / 재무제표['부채']) * 100\n",
    "재무제표['매출액회전율'] = (재무제표['매출액'] / 재무제표['자산']) * 100"
   ]
  },
  {
   "cell_type": "code",
   "execution_count": 23,
   "metadata": {},
   "outputs": [
    {
     "name": "stderr",
     "output_type": "stream",
     "text": [
      "C:\\Users\\dbswo\\AppData\\Local\\Temp\\ipykernel_23540\\4262943400.py:2: FutureWarning: The default value of regex will change from True to False in a future version.\n",
      "  사용할재무비율.회사명 = 사용할재무비율.회사명.str.replace('\\(주\\)', '')\n",
      "C:\\Users\\dbswo\\AppData\\Local\\Temp\\ipykernel_23540\\4262943400.py:2: SettingWithCopyWarning: \n",
      "A value is trying to be set on a copy of a slice from a DataFrame.\n",
      "Try using .loc[row_indexer,col_indexer] = value instead\n",
      "\n",
      "See the caveats in the documentation: https://pandas.pydata.org/pandas-docs/stable/user_guide/indexing.html#returning-a-view-versus-a-copy\n",
      "  사용할재무비율.회사명 = 사용할재무비율.회사명.str.replace('\\(주\\)', '')\n"
     ]
    },
    {
     "data": {
      "text/html": [
       "<div>\n",
       "<style scoped>\n",
       "    .dataframe tbody tr th:only-of-type {\n",
       "        vertical-align: middle;\n",
       "    }\n",
       "\n",
       "    .dataframe tbody tr th {\n",
       "        vertical-align: top;\n",
       "    }\n",
       "\n",
       "    .dataframe thead th {\n",
       "        text-align: right;\n",
       "    }\n",
       "</style>\n",
       "<table border=\"1\" class=\"dataframe\">\n",
       "  <thead>\n",
       "    <tr style=\"text-align: right;\">\n",
       "      <th></th>\n",
       "      <th>회사명</th>\n",
       "      <th>회계년도</th>\n",
       "      <th>운전자산총자본비율</th>\n",
       "      <th>이익잉여금총자산비율</th>\n",
       "      <th>총자산이익율</th>\n",
       "      <th>시장가부채비율</th>\n",
       "      <th>매출액회전율</th>\n",
       "    </tr>\n",
       "  </thead>\n",
       "  <tbody>\n",
       "    <tr>\n",
       "      <th>0</th>\n",
       "      <td>넵튠</td>\n",
       "      <td>2020/12</td>\n",
       "      <td>6.990555</td>\n",
       "      <td>13.825347</td>\n",
       "      <td>-0.603778</td>\n",
       "      <td>306.267660</td>\n",
       "      <td>12.179336</td>\n",
       "    </tr>\n",
       "    <tr>\n",
       "      <th>1</th>\n",
       "      <td>경남스틸</td>\n",
       "      <td>2020/12</td>\n",
       "      <td>26.220694</td>\n",
       "      <td>59.680371</td>\n",
       "      <td>3.797866</td>\n",
       "      <td>273.514324</td>\n",
       "      <td>214.491794</td>\n",
       "    </tr>\n",
       "  </tbody>\n",
       "</table>\n",
       "</div>"
      ],
      "text/plain": [
       "    회사명     회계년도  운전자산총자본비율  이익잉여금총자산비율    총자산이익율     시장가부채비율      매출액회전율\n",
       "0    넵튠  2020/12   6.990555   13.825347 -0.603778  306.267660   12.179336\n",
       "1  경남스틸  2020/12  26.220694   59.680371  3.797866  273.514324  214.491794"
      ]
     },
     "execution_count": 23,
     "metadata": {},
     "output_type": "execute_result"
    }
   ],
   "source": [
    "사용할재무비율 = 재무제표[['회사명', '회계년도', '운전자산총자본비율', '이익잉여금총자산비율', '총자산이익율', '시장가부채비율', '매출액회전율']]\n",
    "사용할재무비율.회사명 = 사용할재무비율.회사명.str.replace('\\(주\\)', '')\n",
    "사용할재무비율"
   ]
  },
  {
   "cell_type": "code",
   "execution_count": 37,
   "metadata": {},
   "outputs": [],
   "source": [
    "dif_3m = relativedelta(months=3)\n",
    "dif_12m = relativedelta(months=12)\n",
    "\n",
    "오늘날짜 = datetime.now().date()\n",
    "\n",
    "기사수집종료날짜 = 오늘날짜 - dif_3m\n",
    "기사수집시작날짜 = 기사수집종료날짜 - dif_12m\n",
    "\n",
    "종료연도 = str(기사수집종료날짜.year)\n",
    "종료월 = str(기사수집종료날짜.month)\n",
    "종료일 = str(기사수집종료날짜.day)\n",
    "\n",
    "시작연도 = str(기사수집시작날짜.year)\n",
    "시작월 = str(기사수집시작날짜.month)\n",
    "시작일 = str(기사수집시작날짜.day)"
   ]
  },
  {
   "cell_type": "code",
   "execution_count": 42,
   "metadata": {},
   "outputs": [
    {
     "name": "stdout",
     "output_type": "stream",
     "text": [
      "2022-04-05 2021-04-05\n"
     ]
    }
   ],
   "source": [
    "print(기사수집종료날짜, 기사수집시작날짜)"
   ]
  },
  {
   "cell_type": "code",
   "execution_count": 55,
   "metadata": {},
   "outputs": [],
   "source": [
    "column_ = ['기업', '기사발행일', '기사제목', '뉴스기사본문']\n",
    "뉴스_df = pd.DataFrame(columns=column_)\n",
    "\n",
    "driver = webdriver.Chrome()\n",
    "\n",
    "start = (시작연도 + '.0' + 시작월 + '.0' + 시작일)\n",
    "end = (종료연도 + '.0' + 종료월 + '.0' + 종료일)\n",
    "start_= (시작연도 + '0' + 시작월 + '0' + 시작일)\n",
    "end_ = (종료연도 + '0' + 종료월 + '0' + 종료일)\n",
    "\n",
    "for 기업 in  사용할재무비율.회사명:\n",
    "\n",
    "    # 나중에 뉴스_df와 concat할 임시 df 생성 및 임시 리스트들 생성\n",
    "    column_ = ['기업', '기사발행일', '기사제목', '뉴스기사본문']\n",
    "    임시_df = pd.DataFrame(columns=column_)    \n",
    "\n",
    "    # 임시_df에 들어갈 리스트 생성\n",
    "    본문리스트 = []\n",
    "    날짜리스트 = []\n",
    "    제목리스트 = []\n",
    "    기업이름 = []\n",
    "\n",
    "    # while 종료 조건으로 쓸 리스트 생성\n",
    "    newslist = []\n",
    "    datelist = []\n",
    "    \n",
    "    page = 1\n",
    "\n",
    "    # 페이지수가 나와있지않으므로 맨끝에 page에 10씩더해서 계속 다음페이지로 이동\n",
    "    while page < 51:\n",
    "\n",
    "        url = 'https://search.naver.com/search.naver?where=news&sm=tab_pge&query='+'\"'+기업+'\"'+'&sort=0&photo=0&field=0&pd=3&ds='+start+'&de='+end+'&cluster_rank=19&mynews=0&office_type=0&office_section_code=0&news_office_checked=&nso=so:r,p:from'+start_+'to'+end_+',a:all&start='+str(page)\n",
    "        driver.get(url)\n",
    "\n",
    "        response = requests.get(url)\n",
    "        soup = BeautifulSoup(response.text, \"lxml\")\n",
    "\n",
    "        # a태그중에서 class가 info인 것과 span태그에 class가 info 인 것 가져옴 \n",
    "        news_titles = soup.select(\"a.info\")\n",
    "        dates = soup.select('span.info')\n",
    "\n",
    "        # 네이버기사와 신문사기사 둘다 하이퍼링크가 있을경우는 기사당 news가 2개씩 네이버 기사가 없을 경우는 1개씩만 링크가 추출된다\n",
    "        # 어림잡아 news_titles수가 10개 미만일 경우는 기사의 수가 5개에서 10개 미만이라는 뜻으로 해석하여 10개 이상만 링크와 기사날짜를 추출\n",
    "        if len(news_titles) >= 10:\n",
    "\n",
    "            for news in news_titles:\n",
    "                title = news.attrs['href']\n",
    "                newslist.append(title)\n",
    "\n",
    "            for date in dates:\n",
    "                news_date = date.text\n",
    "                datelist.append(news_date)\n",
    "\n",
    "            # 네이버 검색시 page number가 다음페이지로 갈때마다 1, 11, 21 이렇게 10씩 더해지는데 다음페이지가 없을경우 \n",
    "            # 마지막 기사만을 포함한 같은 페이지를 계속 반환함. 따라서 기사와 날짜 둘 다 중복되서 저장될경우 종료함\n",
    "            if (newslist[-1]==newslist[-2]) & (datelist[-1]==datelist[-2]):\n",
    "                break\n",
    "\n",
    "            page += 10\n",
    "\n",
    "            time.sleep(1)\n",
    "        \n",
    "        # 기사수 5개 미만시 break, 기사없는기업 리스트에 저장함\n",
    "        else:\n",
    "            \n",
    "            break\n",
    "    \n",
    "    # sid=101은 네이버 경제기사를 의미하는 듯함. 경제기사만 추출\n",
    "    newslist = [news for news in newslist if 'sid=101' in news]\n",
    "    \n",
    "    # news_titles 뉴스기사 url 리스트가 존재시\n",
    "    if news_titles:\n",
    "\n",
    "        # 뉴스기사 url 자체에서는 text가 안가져와지는 특이사항 발생, 찾아보니 네이버기사는 인터넷에 떠야 페이지가 작동하는? 방식이라함\n",
    "        # 셀레니움을 통해서 뉴스기사 url 주소로 창을 띄움\n",
    "        for news in newslist:\n",
    "            url = news\n",
    "            driver.get(url)\n",
    "            \n",
    "            # 뉴스기사 url에서 본문과 제목, 기사작성날짜를 리스트에 저장함\n",
    "            # 데이터프레임에 직접 행을 지정해주기는 번거로움..\n",
    "            try:\n",
    "\n",
    "                날짜 = driver.find_element('xpath', '//*[@id=\"ct\"]/div[1]/div[3]/div[1]/div/span').text\n",
    "                날짜리스트.append(날짜)\n",
    "\n",
    "                제목 = driver.find_element('xpath', '//*[@id=\"ct\"]/div[1]/div[2]/h2').text\n",
    "                제목리스트.append(제목)\n",
    "\n",
    "                본문 = driver.find_element('xpath', '//*[@id=\"dic_area\"]').text\n",
    "                본문리스트.append(본문)\n",
    "                time.sleep(1)\n",
    "\n",
    "                기업이름.append(기업)\n",
    "            \n",
    "            ## 로딩이 안되서 데이터를 못가져올 경우를 대비해 sleep 3초 주고 다시 시도\n",
    "            except:\n",
    "\n",
    "                time.sleep(3)\n",
    "\n",
    "                try:\n",
    "\n",
    "                    날짜 = driver.find_element('xpath', '//*[@id=\"ct\"]/div[1]/div[3]/div[1]/div/span').text\n",
    "                    날짜리스트.append(날짜)\n",
    "\n",
    "                    제목 = driver.find_element('xpath', '//*[@id=\"ct\"]/div[1]/div[2]/h2').text\n",
    "                    제목리스트.append(제목)\n",
    "\n",
    "                    본문 = driver.find_element('xpath', '//*[@id=\"dic_area\"]').text\n",
    "                    본문리스트.append(본문)\n",
    "                    time.sleep(1)\n",
    "\n",
    "                    기업이름.append(기업)\n",
    "                \n",
    "                # 그래도 데이터를 가져오지 못하는 경우는 페이지에 문제가 있다고 판단하여 PASS\n",
    "                except:\n",
    "\n",
    "                    pass\n",
    "\n",
    "    # 혹시나 뉴스기사 url 리스트가 없을 경우는 pass                \n",
    "    else:\n",
    "        pass\n",
    "\n",
    "    # 기업별로 가져온 날짜와 본문, 제목, 기업이름을 임시 데이터프레임으로 저장    \n",
    "    임시_df.기사발행일 = 날짜리스트\n",
    "    임시_df.뉴스기사본문 = 본문리스트\n",
    "    임시_df.기사제목 = 제목리스트\n",
    "    임시_df.기업 = 기업이름\n",
    "    \n",
    "    # 임시 데이터프레임을 뉴스 데이터프레임에 아래로 결합\n",
    "    뉴스_df = pd.concat([뉴스_df, 임시_df])\n",
    "\n",
    "# 앞에서 while 종료 조건이 같은 기사 2번저장인데 이럴 경우 중복으로 저장이 되야 종료되기때문에\n",
    "# 중복기사 행 제거\n",
    "뉴스_df.drop_duplicates(inplace=True)\n"
   ]
  },
  {
   "cell_type": "code",
   "execution_count": 57,
   "metadata": {},
   "outputs": [
    {
     "data": {
      "text/html": [
       "<div>\n",
       "<style scoped>\n",
       "    .dataframe tbody tr th:only-of-type {\n",
       "        vertical-align: middle;\n",
       "    }\n",
       "\n",
       "    .dataframe tbody tr th {\n",
       "        vertical-align: top;\n",
       "    }\n",
       "\n",
       "    .dataframe thead th {\n",
       "        text-align: right;\n",
       "    }\n",
       "</style>\n",
       "<table border=\"1\" class=\"dataframe\">\n",
       "  <thead>\n",
       "    <tr style=\"text-align: right;\">\n",
       "      <th></th>\n",
       "      <th>기업</th>\n",
       "      <th>기사발행일</th>\n",
       "      <th>기사제목</th>\n",
       "      <th>뉴스기사본문</th>\n",
       "    </tr>\n",
       "  </thead>\n",
       "  <tbody>\n",
       "    <tr>\n",
       "      <th>0</th>\n",
       "      <td>넵튠</td>\n",
       "      <td>2022.04.05. 오전 11:31</td>\n",
       "      <td>넵튠 자회사 트리플라 신작 ‘메이크오버 타이쿤’ 글로벌 출격</td>\n",
       "      <td>넵튠(대표 정욱, 유태웅)은 개발 자회사 트리플라(대표 허산)의 자체 개발 모바일게...</td>\n",
       "    </tr>\n",
       "    <tr>\n",
       "      <th>1</th>\n",
       "      <td>넵튠</td>\n",
       "      <td>2022.02.21. 오후 5:41</td>\n",
       "      <td>넵튠, 작년 영업손실 246억…적자 확대</td>\n",
       "      <td>[이데일리 김응태 기자] 넵튠(217270)은 연결 기준 지난해 영업손실이 246억...</td>\n",
       "    </tr>\n",
       "    <tr>\n",
       "      <th>2</th>\n",
       "      <td>넵튠</td>\n",
       "      <td>2022.01.06. 오후 1:36</td>\n",
       "      <td>넵튠, 카카오 연결고리 ‘강화’…사업 시너지 ‘기대감’</td>\n",
       "      <td>카카오 미래이니셔티브센터에 조한상 전 넵튠 이사 ‘합류’\\n넵튠의 AI·메타버스·디...</td>\n",
       "    </tr>\n",
       "    <tr>\n",
       "      <th>0</th>\n",
       "      <td>경남스틸</td>\n",
       "      <td>2022.03.15. 오후 1:27</td>\n",
       "      <td>경남스틸, 양동령 사외이사 신규 선임</td>\n",
       "      <td>[서울=뉴시스] 이정필 기자 = 경남스틸은 양동령 사외이사를 신규 선임한다고 15일...</td>\n",
       "    </tr>\n",
       "    <tr>\n",
       "      <th>1</th>\n",
       "      <td>경남스틸</td>\n",
       "      <td>2022.03.23. 오후 2:18</td>\n",
       "      <td>[특징주] 중소형 철강株 급등…하이스틸·금강철강 상한가</td>\n",
       "      <td>국내 철강업체 수출 확대 기대감 작용\\n\\n국내 철강주가 상한가를 기록하는 등 급등...</td>\n",
       "    </tr>\n",
       "    <tr>\n",
       "      <th>2</th>\n",
       "      <td>경남스틸</td>\n",
       "      <td>2022.02.15. 오후 1:45</td>\n",
       "      <td>경남스틸, 지난해 영업익 68억…100원 현금배당</td>\n",
       "      <td>경남스틸은 지난해 영업이익 68억9798만원을 기록해 전년대비 30.9% 늘었다고 ...</td>\n",
       "    </tr>\n",
       "    <tr>\n",
       "      <th>3</th>\n",
       "      <td>경남스틸</td>\n",
       "      <td>2022.01.07. 오전 9:41</td>\n",
       "      <td>[특징주] 경남스틸, 이틀 연속 급락…\"홍준표 관련성 없다\"</td>\n",
       "      <td>경남스틸 홈페이지© 뉴스1\\n\\n(서울=뉴스1) 황두현 기자 = '홍준표 테마주'로...</td>\n",
       "    </tr>\n",
       "    <tr>\n",
       "      <th>4</th>\n",
       "      <td>경남스틸</td>\n",
       "      <td>2022.01.06. 오후 8:08</td>\n",
       "      <td>경남스틸 \"홍준표 의원과 사업적 관련성 無\"</td>\n",
       "      <td>홍준표 국민의힘 의원./사진=서울경제DB\\n\\n[서울경제]\\n\\n주식시장에서 홍준표...</td>\n",
       "    </tr>\n",
       "    <tr>\n",
       "      <th>5</th>\n",
       "      <td>경남스틸</td>\n",
       "      <td>2022.01.04. 오후 1:06</td>\n",
       "      <td>[특징주] 경남스틸, 홍준표 국민의힘 대선후보 교체론에 관련주 부각</td>\n",
       "      <td>최근 지지율이 급락한 윤석열 국민의힘 대선후보를 둘러싼 후보 교체론이 거론되는 가운...</td>\n",
       "    </tr>\n",
       "    <tr>\n",
       "      <th>6</th>\n",
       "      <td>경남스틸</td>\n",
       "      <td>2022.01.03. 오전 11:09</td>\n",
       "      <td>[특징주] 경남스틸, 윤석열 후보 일정 잠정 중단 소식에 후보교체 가능성 부각 강세</td>\n",
       "      <td>국민의힘 윤석열 대선 후보가 선대위 쇄신과 관련해 일정을 모두 중단했다는 소식에 경...</td>\n",
       "    </tr>\n",
       "    <tr>\n",
       "      <th>7</th>\n",
       "      <td>경남스틸</td>\n",
       "      <td>2021.12.30. 오전 11:39</td>\n",
       "      <td>[특징주] 경남스틸, 홍준표 \"다시 활동할 때 됐다\" 발언에 강세</td>\n",
       "      <td>국민의힘 홍준표 의원이 새해 유튜브 방송 'TV홍카콜라'를 재개하겠다는 소식에 '홍...</td>\n",
       "    </tr>\n",
       "  </tbody>\n",
       "</table>\n",
       "</div>"
      ],
      "text/plain": [
       "     기업                 기사발행일                                            기사제목  \\\n",
       "0    넵튠  2022.04.05. 오전 11:31               넵튠 자회사 트리플라 신작 ‘메이크오버 타이쿤’ 글로벌 출격   \n",
       "1    넵튠   2022.02.21. 오후 5:41                          넵튠, 작년 영업손실 246억…적자 확대   \n",
       "2    넵튠   2022.01.06. 오후 1:36                  넵튠, 카카오 연결고리 ‘강화’…사업 시너지 ‘기대감’   \n",
       "0  경남스틸   2022.03.15. 오후 1:27                            경남스틸, 양동령 사외이사 신규 선임   \n",
       "1  경남스틸   2022.03.23. 오후 2:18                  [특징주] 중소형 철강株 급등…하이스틸·금강철강 상한가   \n",
       "2  경남스틸   2022.02.15. 오후 1:45                     경남스틸, 지난해 영업익 68억…100원 현금배당   \n",
       "3  경남스틸   2022.01.07. 오전 9:41               [특징주] 경남스틸, 이틀 연속 급락…\"홍준표 관련성 없다\"   \n",
       "4  경남스틸   2022.01.06. 오후 8:08                        경남스틸 \"홍준표 의원과 사업적 관련성 無\"   \n",
       "5  경남스틸   2022.01.04. 오후 1:06           [특징주] 경남스틸, 홍준표 국민의힘 대선후보 교체론에 관련주 부각   \n",
       "6  경남스틸  2022.01.03. 오전 11:09  [특징주] 경남스틸, 윤석열 후보 일정 잠정 중단 소식에 후보교체 가능성 부각 강세   \n",
       "7  경남스틸  2021.12.30. 오전 11:39            [특징주] 경남스틸, 홍준표 \"다시 활동할 때 됐다\" 발언에 강세   \n",
       "\n",
       "                                              뉴스기사본문  \n",
       "0  넵튠(대표 정욱, 유태웅)은 개발 자회사 트리플라(대표 허산)의 자체 개발 모바일게...  \n",
       "1  [이데일리 김응태 기자] 넵튠(217270)은 연결 기준 지난해 영업손실이 246억...  \n",
       "2  카카오 미래이니셔티브센터에 조한상 전 넵튠 이사 ‘합류’\\n넵튠의 AI·메타버스·디...  \n",
       "0  [서울=뉴시스] 이정필 기자 = 경남스틸은 양동령 사외이사를 신규 선임한다고 15일...  \n",
       "1  국내 철강업체 수출 확대 기대감 작용\\n\\n국내 철강주가 상한가를 기록하는 등 급등...  \n",
       "2  경남스틸은 지난해 영업이익 68억9798만원을 기록해 전년대비 30.9% 늘었다고 ...  \n",
       "3  경남스틸 홈페이지© 뉴스1\\n\\n(서울=뉴스1) 황두현 기자 = '홍준표 테마주'로...  \n",
       "4  홍준표 국민의힘 의원./사진=서울경제DB\\n\\n[서울경제]\\n\\n주식시장에서 홍준표...  \n",
       "5  최근 지지율이 급락한 윤석열 국민의힘 대선후보를 둘러싼 후보 교체론이 거론되는 가운...  \n",
       "6  국민의힘 윤석열 대선 후보가 선대위 쇄신과 관련해 일정을 모두 중단했다는 소식에 경...  \n",
       "7  국민의힘 홍준표 의원이 새해 유튜브 방송 'TV홍카콜라'를 재개하겠다는 소식에 '홍...  "
      ]
     },
     "execution_count": 57,
     "metadata": {},
     "output_type": "execute_result"
    }
   ],
   "source": [
    "뉴스_df"
   ]
  },
  {
   "cell_type": "code",
   "execution_count": 58,
   "metadata": {},
   "outputs": [],
   "source": [
    "제거할기사제목 = ['증시 일정', '증시일정', '장마감후', '장 마감 후', '장마감공시', '증시 캘린더', '재송', '투자정보', \\\n",
    "    '코스닥 기업공시', '장중 주요', '코스닥 3분기 결산', '주요 뉴스 및 공시', '기업공시',' 기업 공시', '장 종료 후', \\\n",
    "        '주요 정보', '오전 공시', '투자정보', '기업 공시', '오늘의 메모', '재테크 캘린더', '추천주 정리', '희망복원 주식클리닉', \\\n",
    "        '\\d{1,2}월 \\d{1,2}일', '오늘의 주요 공시', '코스닥 공시', '코스닥 메모', '대박 공모주', '<표>', '오늘의 리포트', \\\n",
    "        '주식상담소', '주식왕 따라잡기', '주식컨설팅', '\\d{4} 증시', '춤추는 테마주', '개장시황', \\\n",
    "        '폭등신호 터진', '대폭등', '매드머니', '주담과 Q&A', '굿바이 \\d{4}', '지금 당장 사라', '폭등주', \\\n",
    "        '\\d{4}%', '김정일 사망', '종목대탐험', '종목신호등', 'VIP CLUB', '수급유망주', '기상도', '중소형주', \\\n",
    "        '국민주식고충처리반', '유망주', '머니Q', '시초가잡아라', '기관 Q&A', '부동산에 투자하려면', '베스트애널리스트', \\\n",
    "        '코스닥협회장 취임', '코스닥협회', '부동산에 투자하는 방법', '국가품질 경영대회', '증시일정', '머니Q', '추천종목', '티타임 공략주', \\\n",
    "        '수급유망주', '종목배틀', '\\d{4} 증시 결산', '기업설명회', '종목신호등', 'VIP CLUB 추천주', '내일장 공략주 10선', '주간컨센서스동향', \\\n",
    "        '주담과 Q&A', '조회공시', '주가급등 사유', '관련株들', '게임株', '이시각 Up&Down', '장내 매도', '증시기상도', \\\n",
    "        '마감시황', '주식부자 속출', '티타임 공략주', '\\d{1,2}일 증권사 추천종목', '기업IR소식']\n",
    "제거제목리스트 = '|'.join(제거할기사제목)"
   ]
  },
  {
   "cell_type": "code",
   "execution_count": 76,
   "metadata": {},
   "outputs": [],
   "source": [
    "뉴스중복제거 = 뉴스_df.drop_duplicates(['뉴스기사본문'])\n",
    "뉴스 = 뉴스중복제거[~뉴스중복제거['기사제목'].str.contains(제거제목리스트, na=False, case=False)]\n",
    "\n",
    "pattern1 = r'\\([^)]*\\)'\n",
    "pattern2 = r\"\\[([^]]+)\\]\"\n",
    "\n",
    "뉴스['뉴스기사본문전처리'] = [re.sub(pattern1, '', s) for s in 뉴스['뉴스기사본문']]\n",
    "뉴스['뉴스기사본문전처리'] = [re.sub(pattern2, '', s) for s in 뉴스['뉴스기사본문전처리']]\n",
    "뉴스['뉴스기사본문전처리'] = [re.sub('[^/^$|\\s+/가-힣\\.]', '', s) for s in 뉴스['뉴스기사본문전처리']]\n",
    "뉴스['뉴스기사본문전처리'] = [re.sub('[[ \\s]{2,}\\.{2,}]', '', s) for s in 뉴스['뉴스기사본문전처리']]\n",
    "뉴스['뉴스기사본문전처리'] = [re.sub('\\n', '', s) for s in 뉴스['뉴스기사본문전처리']]\n",
    "뉴스['뉴스기사본문전처리'] = [re.sub('[/+]', '', s) for s in 뉴스['뉴스기사본문전처리']]\n",
    "뉴스['뉴스기사본문전처리'] = [re.sub('\\r', '', s) for s in 뉴스['뉴스기사본문전처리']]\n",
    "뉴스.drop('뉴스기사본문', axis=1, inplace=True)"
   ]
  },
  {
   "cell_type": "code",
   "execution_count": 77,
   "metadata": {},
   "outputs": [],
   "source": [
    "stopwords = ['의','가','이','은','들','는','좀','잘','걍','과','도','를','으로','자','에','와','한','하다']\n",
    "\n",
    "mecab = Mecab()\n",
    "# Mecab으로 토큰화\n",
    "뉴스['뉴스기사본문전처리'] = 뉴스['뉴스기사본문전처리'].apply(lambda x: mecab.morphs(x))\n",
    "# 한 글자 단어 제거\n",
    "뉴스['뉴스기사본문전처리'] = 뉴스['뉴스기사본문전처리'].apply(lambda x: [word for word in x if len(word) > 1])\n",
    "# stopwords에 있는 불용어 제거\n",
    "뉴스['뉴스기사본문전처리'] = 뉴스['뉴스기사본문전처리'].apply(lambda x: [word for word in x if word not in stopwords])"
   ]
  },
  {
   "cell_type": "code",
   "execution_count": 78,
   "metadata": {},
   "outputs": [
    {
     "data": {
      "text/plain": [
       "array([[   0,    0,    0, ...,   75,  616,    9],\n",
       "       [   0,    0,    0, ...,   11,    7,   33],\n",
       "       [  59, 1773,  133, ...,   26, 1773,   77],\n",
       "       ...,\n",
       "       [   0,    0,    0, ..., 3045, 4232,   61],\n",
       "       [   0,    0,    0, ..., 3045, 4232,   61],\n",
       "       [   0,    0,    0, ..., 3045, 4232,   61]])"
      ]
     },
     "execution_count": 78,
     "metadata": {},
     "output_type": "execute_result"
    }
   ],
   "source": [
    "# loading\n",
    "with open('./model/tokenizer.pickle', 'rb') as handle:\n",
    "    tokenizer = pickle.load(handle)\n",
    "\n",
    "뉴스기사본문전처리 = np.array(뉴스['뉴스기사본문전처리'])\n",
    "\n",
    "뉴스기사본문전처리 = tokenizer.texts_to_sequences(뉴스기사본문전처리)\n",
    "뉴스기사본문전처리 = sequence.pad_sequences(뉴스기사본문전처리, maxlen=100)\n"
   ]
  },
  {
   "cell_type": "code",
   "execution_count": 82,
   "metadata": {},
   "outputs": [
    {
     "name": "stdout",
     "output_type": "stream",
     "text": [
      "1/1 [==============================] - 0s 354ms/step\n"
     ]
    }
   ],
   "source": [
    "model_t = load_model(\"./model/02-0.170406.hdf5\")\n",
    "\n",
    "predict = model_t.predict(뉴스기사본문전처리)\n",
    "predict = predict.round()"
   ]
  },
  {
   "cell_type": "code",
   "execution_count": 87,
   "metadata": {},
   "outputs": [
    {
     "data": {
      "text/html": [
       "<div>\n",
       "<style scoped>\n",
       "    .dataframe tbody tr th:only-of-type {\n",
       "        vertical-align: middle;\n",
       "    }\n",
       "\n",
       "    .dataframe tbody tr th {\n",
       "        vertical-align: top;\n",
       "    }\n",
       "\n",
       "    .dataframe thead th {\n",
       "        text-align: right;\n",
       "    }\n",
       "</style>\n",
       "<table border=\"1\" class=\"dataframe\">\n",
       "  <thead>\n",
       "    <tr style=\"text-align: right;\">\n",
       "      <th></th>\n",
       "      <th>기업</th>\n",
       "      <th>기사발행일</th>\n",
       "      <th>기사제목</th>\n",
       "      <th>뉴스기사본문전처리</th>\n",
       "      <th>부도기사분류</th>\n",
       "    </tr>\n",
       "  </thead>\n",
       "  <tbody>\n",
       "    <tr>\n",
       "      <th>0</th>\n",
       "      <td>넵튠</td>\n",
       "      <td>2022.04.05. 오전 11:31</td>\n",
       "      <td>넵튠 자회사 트리플라 신작 ‘메이크오버 타이쿤’ 글로벌 출격</td>\n",
       "      <td>[넵튠, 개발, 자회사, 트리, 플라, 자체, 개발, 모바일게임, 메이크, 오버, ...</td>\n",
       "      <td>0.0</td>\n",
       "    </tr>\n",
       "    <tr>\n",
       "      <th>1</th>\n",
       "      <td>넵튠</td>\n",
       "      <td>2022.02.21. 오후 5:41</td>\n",
       "      <td>넵튠, 작년 영업손실 246억…적자 확대</td>\n",
       "      <td>[넵튠, 연결, 기준, 지난해, 영업, 손실, 전년, 대비, 증가, 다고, 공시, ...</td>\n",
       "      <td>0.0</td>\n",
       "    </tr>\n",
       "    <tr>\n",
       "      <th>2</th>\n",
       "      <td>넵튠</td>\n",
       "      <td>2022.01.06. 오후 1:36</td>\n",
       "      <td>넵튠, 카카오 연결고리 ‘강화’…사업 시너지 ‘기대감’</td>\n",
       "      <td>[카카오, 미래, 이니셔티브, 센터, 조한, 넵튠, 이사, 합류, 넵튠, 메타, 버...</td>\n",
       "      <td>0.0</td>\n",
       "    </tr>\n",
       "    <tr>\n",
       "      <th>0</th>\n",
       "      <td>경남스틸</td>\n",
       "      <td>2022.03.15. 오후 1:27</td>\n",
       "      <td>경남스틸, 양동령 사외이사 신규 선임</td>\n",
       "      <td>[이정필, 기자, 경남, 스틸, 동령, 사외, 이사, 신규, 선임, 한다고, 공시,...</td>\n",
       "      <td>0.0</td>\n",
       "    </tr>\n",
       "    <tr>\n",
       "      <th>1</th>\n",
       "      <td>경남스틸</td>\n",
       "      <td>2022.03.23. 오후 2:18</td>\n",
       "      <td>[특징주] 중소형 철강株 급등…하이스틸·금강철강 상한가</td>\n",
       "      <td>[국내, 철강, 업체, 수출, 확대, 기대감, 작용, 국내, 강주, 상한가, 기록,...</td>\n",
       "      <td>0.0</td>\n",
       "    </tr>\n",
       "    <tr>\n",
       "      <th>2</th>\n",
       "      <td>경남스틸</td>\n",
       "      <td>2022.02.15. 오후 1:45</td>\n",
       "      <td>경남스틸, 지난해 영업익 68억…100원 현금배당</td>\n",
       "      <td>[경남, 스틸, 지난해, 영업, 이익, 억만, 기록, 전년, 대비, 다고, 공시, ...</td>\n",
       "      <td>0.0</td>\n",
       "    </tr>\n",
       "    <tr>\n",
       "      <th>3</th>\n",
       "      <td>경남스틸</td>\n",
       "      <td>2022.01.07. 오전 9:41</td>\n",
       "      <td>[특징주] 경남스틸, 이틀 연속 급락…\"홍준표 관련성 없다\"</td>\n",
       "      <td>[경남, 스틸, 홈페이지, 뉴스, 황두현, 기자, 홍준표, 테마주, 분류, 경남, ...</td>\n",
       "      <td>0.0</td>\n",
       "    </tr>\n",
       "    <tr>\n",
       "      <th>4</th>\n",
       "      <td>경남스틸</td>\n",
       "      <td>2022.01.06. 오후 8:08</td>\n",
       "      <td>경남스틸 \"홍준표 의원과 사업적 관련성 無\"</td>\n",
       "      <td>[홍준표, 국민, 의원, 사진, 서울, 경제, 주식, 시장, 에서, 홍준표, 국민,...</td>\n",
       "      <td>0.0</td>\n",
       "    </tr>\n",
       "    <tr>\n",
       "      <th>5</th>\n",
       "      <td>경남스틸</td>\n",
       "      <td>2022.01.04. 오후 1:06</td>\n",
       "      <td>[특징주] 경남스틸, 홍준표 국민의힘 대선후보 교체론에 관련주 부각</td>\n",
       "      <td>[최근, 지지율, 급락, 윤석열, 국민, 대선, 후보, 둘러싼, 후보, 교체, 거론...</td>\n",
       "      <td>0.0</td>\n",
       "    </tr>\n",
       "    <tr>\n",
       "      <th>6</th>\n",
       "      <td>경남스틸</td>\n",
       "      <td>2022.01.03. 오전 11:09</td>\n",
       "      <td>[특징주] 경남스틸, 윤석열 후보 일정 잠정 중단 소식에 후보교체 가능성 부각 강세</td>\n",
       "      <td>[국민, 윤석열, 대선, 후보, 선대위, 쇄신, 관련, 일정, 모두, 중단, 다는,...</td>\n",
       "      <td>0.0</td>\n",
       "    </tr>\n",
       "    <tr>\n",
       "      <th>7</th>\n",
       "      <td>경남스틸</td>\n",
       "      <td>2021.12.30. 오전 11:39</td>\n",
       "      <td>[특징주] 경남스틸, 홍준표 \"다시 활동할 때 됐다\" 발언에 강세</td>\n",
       "      <td>[국민, 홍준표, 의원, 새해, 유튜브, 방송, 콜라, 재개, 다는, 소식, 홍준표...</td>\n",
       "      <td>0.0</td>\n",
       "    </tr>\n",
       "  </tbody>\n",
       "</table>\n",
       "</div>"
      ],
      "text/plain": [
       "     기업                 기사발행일                                            기사제목  \\\n",
       "0    넵튠  2022.04.05. 오전 11:31               넵튠 자회사 트리플라 신작 ‘메이크오버 타이쿤’ 글로벌 출격   \n",
       "1    넵튠   2022.02.21. 오후 5:41                          넵튠, 작년 영업손실 246억…적자 확대   \n",
       "2    넵튠   2022.01.06. 오후 1:36                  넵튠, 카카오 연결고리 ‘강화’…사업 시너지 ‘기대감’   \n",
       "0  경남스틸   2022.03.15. 오후 1:27                            경남스틸, 양동령 사외이사 신규 선임   \n",
       "1  경남스틸   2022.03.23. 오후 2:18                  [특징주] 중소형 철강株 급등…하이스틸·금강철강 상한가   \n",
       "2  경남스틸   2022.02.15. 오후 1:45                     경남스틸, 지난해 영업익 68억…100원 현금배당   \n",
       "3  경남스틸   2022.01.07. 오전 9:41               [특징주] 경남스틸, 이틀 연속 급락…\"홍준표 관련성 없다\"   \n",
       "4  경남스틸   2022.01.06. 오후 8:08                        경남스틸 \"홍준표 의원과 사업적 관련성 無\"   \n",
       "5  경남스틸   2022.01.04. 오후 1:06           [특징주] 경남스틸, 홍준표 국민의힘 대선후보 교체론에 관련주 부각   \n",
       "6  경남스틸  2022.01.03. 오전 11:09  [특징주] 경남스틸, 윤석열 후보 일정 잠정 중단 소식에 후보교체 가능성 부각 강세   \n",
       "7  경남스틸  2021.12.30. 오전 11:39            [특징주] 경남스틸, 홍준표 \"다시 활동할 때 됐다\" 발언에 강세   \n",
       "\n",
       "                                           뉴스기사본문전처리  부도기사분류  \n",
       "0  [넵튠, 개발, 자회사, 트리, 플라, 자체, 개발, 모바일게임, 메이크, 오버, ...     0.0  \n",
       "1  [넵튠, 연결, 기준, 지난해, 영업, 손실, 전년, 대비, 증가, 다고, 공시, ...     0.0  \n",
       "2  [카카오, 미래, 이니셔티브, 센터, 조한, 넵튠, 이사, 합류, 넵튠, 메타, 버...     0.0  \n",
       "0  [이정필, 기자, 경남, 스틸, 동령, 사외, 이사, 신규, 선임, 한다고, 공시,...     0.0  \n",
       "1  [국내, 철강, 업체, 수출, 확대, 기대감, 작용, 국내, 강주, 상한가, 기록,...     0.0  \n",
       "2  [경남, 스틸, 지난해, 영업, 이익, 억만, 기록, 전년, 대비, 다고, 공시, ...     0.0  \n",
       "3  [경남, 스틸, 홈페이지, 뉴스, 황두현, 기자, 홍준표, 테마주, 분류, 경남, ...     0.0  \n",
       "4  [홍준표, 국민, 의원, 사진, 서울, 경제, 주식, 시장, 에서, 홍준표, 국민,...     0.0  \n",
       "5  [최근, 지지율, 급락, 윤석열, 국민, 대선, 후보, 둘러싼, 후보, 교체, 거론...     0.0  \n",
       "6  [국민, 윤석열, 대선, 후보, 선대위, 쇄신, 관련, 일정, 모두, 중단, 다는,...     0.0  \n",
       "7  [국민, 홍준표, 의원, 새해, 유튜브, 방송, 콜라, 재개, 다는, 소식, 홍준표...     0.0  "
      ]
     },
     "execution_count": 87,
     "metadata": {},
     "output_type": "execute_result"
    }
   ],
   "source": [
    "뉴스['부도기사분류'] = predict\n",
    "뉴스"
   ]
  },
  {
   "cell_type": "code",
   "execution_count": 89,
   "metadata": {},
   "outputs": [
    {
     "data": {
      "text/html": [
       "<div>\n",
       "<style scoped>\n",
       "    .dataframe tbody tr th:only-of-type {\n",
       "        vertical-align: middle;\n",
       "    }\n",
       "\n",
       "    .dataframe tbody tr th {\n",
       "        vertical-align: top;\n",
       "    }\n",
       "\n",
       "    .dataframe thead th {\n",
       "        text-align: right;\n",
       "    }\n",
       "</style>\n",
       "<table border=\"1\" class=\"dataframe\">\n",
       "  <thead>\n",
       "    <tr style=\"text-align: right;\">\n",
       "      <th></th>\n",
       "      <th>기업</th>\n",
       "      <th>부도기사분류</th>\n",
       "    </tr>\n",
       "  </thead>\n",
       "  <tbody>\n",
       "    <tr>\n",
       "      <th>0</th>\n",
       "      <td>경남스틸</td>\n",
       "      <td>8</td>\n",
       "    </tr>\n",
       "    <tr>\n",
       "      <th>1</th>\n",
       "      <td>넵튠</td>\n",
       "      <td>3</td>\n",
       "    </tr>\n",
       "  </tbody>\n",
       "</table>\n",
       "</div>"
      ],
      "text/plain": [
       "     기업  부도기사분류\n",
       "0  경남스틸       8\n",
       "1    넵튠       3"
      ]
     },
     "execution_count": 89,
     "metadata": {},
     "output_type": "execute_result"
    }
   ],
   "source": [
    "전체기사수"
   ]
  },
  {
   "cell_type": "code",
   "execution_count": 91,
   "metadata": {},
   "outputs": [
    {
     "data": {
      "text/plain": [
       "0    0.0\n",
       "1    0.0\n",
       "dtype: float64"
      ]
     },
     "execution_count": 91,
     "metadata": {},
     "output_type": "execute_result"
    }
   ],
   "source": [
    "전체기사수 = pd.DataFrame(뉴스.groupby(['기업']).count()['부도기사분류'])\n",
    "전체기사수.reset_index(drop = False, inplace = True)\n",
    "전체기사수.columns = ['기업', '전체기사수']\n",
    "\n",
    "부도기사수 = pd.DataFrame(뉴스[뉴스.부도기사분류==1].groupby(['기업']).count()['부도기사분류'])\n",
    "부도기사수.reset_index(drop = False, inplace = True)\n",
    "부도기사수.columns = ['기업', '부도기사수']\n",
    "\n",
    "부도기사비율 = 부도기사수['부도기사수'] / 전체기사수['전체기사수']\n",
    "부도기사비율.fillna(0, inplace=True)\n",
    "부도기사비율"
   ]
  },
  {
   "cell_type": "code",
   "execution_count": 92,
   "metadata": {},
   "outputs": [
    {
     "name": "stderr",
     "output_type": "stream",
     "text": [
      "C:\\Users\\dbswo\\AppData\\Local\\Temp\\ipykernel_23540\\846612621.py:1: SettingWithCopyWarning: \n",
      "A value is trying to be set on a copy of a slice from a DataFrame.\n",
      "Try using .loc[row_indexer,col_indexer] = value instead\n",
      "\n",
      "See the caveats in the documentation: https://pandas.pydata.org/pandas-docs/stable/user_guide/indexing.html#returning-a-view-versus-a-copy\n",
      "  사용할재무비율['부도기사비율'] = 부도기사비율\n"
     ]
    }
   ],
   "source": [
    "사용할재무비율['부도기사비율'] = 부도기사비율"
   ]
  },
  {
   "cell_type": "code",
   "execution_count": 97,
   "metadata": {},
   "outputs": [
    {
     "data": {
      "text/html": [
       "<div>\n",
       "<style scoped>\n",
       "    .dataframe tbody tr th:only-of-type {\n",
       "        vertical-align: middle;\n",
       "    }\n",
       "\n",
       "    .dataframe tbody tr th {\n",
       "        vertical-align: top;\n",
       "    }\n",
       "\n",
       "    .dataframe thead th {\n",
       "        text-align: right;\n",
       "    }\n",
       "</style>\n",
       "<table border=\"1\" class=\"dataframe\">\n",
       "  <thead>\n",
       "    <tr style=\"text-align: right;\">\n",
       "      <th></th>\n",
       "      <th>운전자산총자본비율</th>\n",
       "      <th>이익잉여금총자산비율</th>\n",
       "      <th>총자산이익율</th>\n",
       "      <th>시장가부채비율</th>\n",
       "      <th>매출액회전율</th>\n",
       "      <th>부도기사비율</th>\n",
       "    </tr>\n",
       "  </thead>\n",
       "  <tbody>\n",
       "    <tr>\n",
       "      <th>0</th>\n",
       "      <td>6.990555</td>\n",
       "      <td>13.825347</td>\n",
       "      <td>-0.603778</td>\n",
       "      <td>306.267660</td>\n",
       "      <td>12.179336</td>\n",
       "      <td>0.0</td>\n",
       "    </tr>\n",
       "    <tr>\n",
       "      <th>1</th>\n",
       "      <td>26.220694</td>\n",
       "      <td>59.680371</td>\n",
       "      <td>3.797866</td>\n",
       "      <td>273.514324</td>\n",
       "      <td>214.491794</td>\n",
       "      <td>0.0</td>\n",
       "    </tr>\n",
       "  </tbody>\n",
       "</table>\n",
       "</div>"
      ],
      "text/plain": [
       "   운전자산총자본비율  이익잉여금총자산비율    총자산이익율     시장가부채비율      매출액회전율  부도기사비율\n",
       "0   6.990555   13.825347 -0.603778  306.267660   12.179336     0.0\n",
       "1  26.220694   59.680371  3.797866  273.514324  214.491794     0.0"
      ]
     },
     "execution_count": 97,
     "metadata": {},
     "output_type": "execute_result"
    }
   ],
   "source": [
    "사용할재무비율\n",
    "feature = 사용할재무비율.iloc[:,2:]\n",
    "feature"
   ]
  },
  {
   "cell_type": "code",
   "execution_count": 101,
   "metadata": {},
   "outputs": [],
   "source": [
    "ml_model = joblib.load('./model/svc_model.pkl')"
   ]
  },
  {
   "cell_type": "code",
   "execution_count": 102,
   "metadata": {},
   "outputs": [
    {
     "name": "stderr",
     "output_type": "stream",
     "text": [
      "c:\\Users\\dbswo\\AppData\\Local\\Programs\\Python\\Python38\\lib\\site-packages\\sklearn\\base.py:443: UserWarning: X has feature names, but SVC was fitted without feature names\n",
      "  warnings.warn(\n"
     ]
    },
    {
     "data": {
      "text/plain": [
       "array([0, 0], dtype=int64)"
      ]
     },
     "execution_count": 102,
     "metadata": {},
     "output_type": "execute_result"
    }
   ],
   "source": [
    "predict = ml_model.predict(feature)\n",
    "predict"
   ]
  },
  {
   "cell_type": "code",
   "execution_count": 103,
   "metadata": {},
   "outputs": [
    {
     "data": {
      "text/html": [
       "<div>\n",
       "<style scoped>\n",
       "    .dataframe tbody tr th:only-of-type {\n",
       "        vertical-align: middle;\n",
       "    }\n",
       "\n",
       "    .dataframe tbody tr th {\n",
       "        vertical-align: top;\n",
       "    }\n",
       "\n",
       "    .dataframe thead th {\n",
       "        text-align: right;\n",
       "    }\n",
       "</style>\n",
       "<table border=\"1\" class=\"dataframe\">\n",
       "  <thead>\n",
       "    <tr style=\"text-align: right;\">\n",
       "      <th></th>\n",
       "      <th>회사명</th>\n",
       "      <th>회계년도</th>\n",
       "      <th>운전자산총자본비율</th>\n",
       "      <th>이익잉여금총자산비율</th>\n",
       "      <th>총자산이익율</th>\n",
       "      <th>시장가부채비율</th>\n",
       "      <th>매출액회전율</th>\n",
       "      <th>부도기사비율</th>\n",
       "    </tr>\n",
       "  </thead>\n",
       "  <tbody>\n",
       "    <tr>\n",
       "      <th>0</th>\n",
       "      <td>넵튠</td>\n",
       "      <td>2020/12</td>\n",
       "      <td>6.990555</td>\n",
       "      <td>13.825347</td>\n",
       "      <td>-0.603778</td>\n",
       "      <td>306.267660</td>\n",
       "      <td>12.179336</td>\n",
       "      <td>0.0</td>\n",
       "    </tr>\n",
       "    <tr>\n",
       "      <th>1</th>\n",
       "      <td>경남스틸</td>\n",
       "      <td>2020/12</td>\n",
       "      <td>26.220694</td>\n",
       "      <td>59.680371</td>\n",
       "      <td>3.797866</td>\n",
       "      <td>273.514324</td>\n",
       "      <td>214.491794</td>\n",
       "      <td>0.0</td>\n",
       "    </tr>\n",
       "  </tbody>\n",
       "</table>\n",
       "</div>"
      ],
      "text/plain": [
       "    회사명     회계년도  운전자산총자본비율  이익잉여금총자산비율    총자산이익율     시장가부채비율      매출액회전율  \\\n",
       "0    넵튠  2020/12   6.990555   13.825347 -0.603778  306.267660   12.179336   \n",
       "1  경남스틸  2020/12  26.220694   59.680371  3.797866  273.514324  214.491794   \n",
       "\n",
       "   부도기사비율  \n",
       "0     0.0  \n",
       "1     0.0  "
      ]
     },
     "execution_count": 103,
     "metadata": {},
     "output_type": "execute_result"
    }
   ],
   "source": [
    "사용할재무비율"
   ]
  },
  {
   "cell_type": "code",
   "execution_count": 104,
   "metadata": {},
   "outputs": [
    {
     "data": {
      "text/plain": [
       "array([0, 0], dtype=int64)"
      ]
     },
     "execution_count": 104,
     "metadata": {},
     "output_type": "execute_result"
    }
   ],
   "source": [
    "predict"
   ]
  },
  {
   "cell_type": "code",
   "execution_count": null,
   "metadata": {},
   "outputs": [],
   "source": []
  }
 ],
 "metadata": {
  "kernelspec": {
   "display_name": "Python 3.8.0 64-bit",
   "language": "python",
   "name": "python3"
  },
  "language_info": {
   "codemirror_mode": {
    "name": "ipython",
    "version": 3
   },
   "file_extension": ".py",
   "mimetype": "text/x-python",
   "name": "python",
   "nbconvert_exporter": "python",
   "pygments_lexer": "ipython3",
   "version": "3.8.0"
  },
  "orig_nbformat": 4,
  "vscode": {
   "interpreter": {
    "hash": "c2e55c9285be7209c352033cdce09d8fd6005e5e0666f201e74b15d445dd77cd"
   }
  }
 },
 "nbformat": 4,
 "nbformat_minor": 2
}
