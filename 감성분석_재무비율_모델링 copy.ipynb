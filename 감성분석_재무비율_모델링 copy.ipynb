{
 "cells": [
  {
   "cell_type": "code",
   "execution_count": 1,
   "metadata": {},
   "outputs": [],
   "source": [
    "from catboost import CatBoostClassifier\n",
    "from xgboost import XGBClassifier\n",
    "from sklearn.ensemble import RandomForestClassifier\n",
    "from sklearn.preprocessing import RobustScaler\n",
    "from sklearn.model_selection import train_test_split, GridSearchCV\n",
    "from sklearn.linear_model import LogisticRegression\n",
    "from sklearn.ensemble import VotingClassifier\n",
    "from sklearn.metrics import f1_score, accuracy_score, recall_score, precision_score, roc_auc_score\n",
    "from sklearn.svm import SVC\n",
    "from xgboost import XGBClassifier\n",
    "from catboost import CatBoostClassifier\n",
    "from matplotlib import rc\n",
    "\n",
    "import matplotlib.pyplot as plt\n",
    "import seaborn as sns\n",
    "import random\n",
    "import pandas as pd\n",
    "import numpy as np\n"
   ]
  },
  {
   "cell_type": "code",
   "execution_count": 8,
   "metadata": {},
   "outputs": [],
   "source": [
    "상폐 = pd.read_csv('상폐기업_감성분석_데이터.csv')\n",
    "상폐 = 상폐.iloc[:,[0, 1, 2, 3, 4, 5, 6, 9, 8]]\n",
    "정상 = pd.read_csv('정상기업_감성분석_데이터.csv')\n",
    "정상 = 정상.iloc[:,[0, 1, 2, 3, 4, 5, 6, 9, 8]]\n",
    "\n",
    "감성분석_재무비율 = pd.concat([상폐, 정상])\n",
    "감성분석_재무비율.reset_index(inplace=True, drop=True)\n",
    "감성분석_재무비율.to_csv('감성분석_재무비율.csv', index=None)"
   ]
  },
  {
   "cell_type": "code",
   "execution_count": 3,
   "metadata": {},
   "outputs": [],
   "source": [
    "np.random.seed(42)\n",
    "\n",
    "부도비율 = pd.read_csv('./Step4-3_재무비율_워드임베딩_모델링/mecab_word2vec_재무비율.csv')\n",
    "부도비율.rename(columns={'운전자산총자본비율':'운전자본비율'}, inplace=True)\n",
    "\n",
    "감성분석 = pd.read_csv('Step5-2_감성분석_모델링/감성분석_재무비율.csv')\n",
    "감성분석.rename(columns={'운전자산총자본비율':'운전자본비율'}, inplace=True)\n",
    "\n",
    "data = 부도비율\n",
    "data['부정기사비율'] = 감성분석.부정기사비율\n",
    "data.fillna(0, inplace=True)\n",
    "input = data.iloc[:,[2, 3, 4, 5, 6, 7, 9]]\n",
    "target = data.iloc[:,8]"
   ]
  },
  {
   "cell_type": "code",
   "execution_count": 31,
   "metadata": {},
   "outputs": [
    {
     "data": {
      "text/html": [
       "<div>\n",
       "<style scoped>\n",
       "    .dataframe tbody tr th:only-of-type {\n",
       "        vertical-align: middle;\n",
       "    }\n",
       "\n",
       "    .dataframe tbody tr th {\n",
       "        vertical-align: top;\n",
       "    }\n",
       "\n",
       "    .dataframe thead th {\n",
       "        text-align: right;\n",
       "    }\n",
       "</style>\n",
       "<table border=\"1\" class=\"dataframe\">\n",
       "  <thead>\n",
       "    <tr style=\"text-align: right;\">\n",
       "      <th></th>\n",
       "      <th>회계년도</th>\n",
       "      <th>운전자본비율</th>\n",
       "      <th>이익잉여금총자산비율</th>\n",
       "      <th>총자산이익율</th>\n",
       "      <th>시장가부채비율</th>\n",
       "      <th>매출액회전율</th>\n",
       "      <th>부도기사비율</th>\n",
       "      <th>부실기업여부</th>\n",
       "      <th>부정기사비율</th>\n",
       "    </tr>\n",
       "  </thead>\n",
       "  <tbody>\n",
       "    <tr>\n",
       "      <th>회계년도</th>\n",
       "      <td>1.00</td>\n",
       "      <td>-0.13</td>\n",
       "      <td>0.02</td>\n",
       "      <td>-0.06</td>\n",
       "      <td>-0.06</td>\n",
       "      <td>-0.03</td>\n",
       "      <td>-0.01</td>\n",
       "      <td>0.00</td>\n",
       "      <td>0.01</td>\n",
       "    </tr>\n",
       "    <tr>\n",
       "      <th>운전자본비율</th>\n",
       "      <td>-0.13</td>\n",
       "      <td>1.00</td>\n",
       "      <td>0.18</td>\n",
       "      <td>0.43</td>\n",
       "      <td>0.62</td>\n",
       "      <td>-0.03</td>\n",
       "      <td>-0.21</td>\n",
       "      <td>-0.32</td>\n",
       "      <td>-0.24</td>\n",
       "    </tr>\n",
       "    <tr>\n",
       "      <th>이익잉여금총자산비율</th>\n",
       "      <td>0.02</td>\n",
       "      <td>0.18</td>\n",
       "      <td>1.00</td>\n",
       "      <td>0.53</td>\n",
       "      <td>0.16</td>\n",
       "      <td>0.14</td>\n",
       "      <td>-0.22</td>\n",
       "      <td>-0.44</td>\n",
       "      <td>-0.28</td>\n",
       "    </tr>\n",
       "    <tr>\n",
       "      <th>총자산이익율</th>\n",
       "      <td>-0.06</td>\n",
       "      <td>0.43</td>\n",
       "      <td>0.53</td>\n",
       "      <td>1.00</td>\n",
       "      <td>0.22</td>\n",
       "      <td>0.25</td>\n",
       "      <td>-0.35</td>\n",
       "      <td>-0.60</td>\n",
       "      <td>-0.41</td>\n",
       "    </tr>\n",
       "    <tr>\n",
       "      <th>시장가부채비율</th>\n",
       "      <td>-0.06</td>\n",
       "      <td>0.62</td>\n",
       "      <td>0.16</td>\n",
       "      <td>0.22</td>\n",
       "      <td>1.00</td>\n",
       "      <td>-0.16</td>\n",
       "      <td>-0.14</td>\n",
       "      <td>-0.21</td>\n",
       "      <td>-0.10</td>\n",
       "    </tr>\n",
       "    <tr>\n",
       "      <th>매출액회전율</th>\n",
       "      <td>-0.03</td>\n",
       "      <td>-0.03</td>\n",
       "      <td>0.14</td>\n",
       "      <td>0.25</td>\n",
       "      <td>-0.16</td>\n",
       "      <td>1.00</td>\n",
       "      <td>-0.11</td>\n",
       "      <td>-0.16</td>\n",
       "      <td>-0.14</td>\n",
       "    </tr>\n",
       "    <tr>\n",
       "      <th>부도기사비율</th>\n",
       "      <td>-0.01</td>\n",
       "      <td>-0.21</td>\n",
       "      <td>-0.22</td>\n",
       "      <td>-0.35</td>\n",
       "      <td>-0.14</td>\n",
       "      <td>-0.11</td>\n",
       "      <td>1.00</td>\n",
       "      <td>0.48</td>\n",
       "      <td>0.53</td>\n",
       "    </tr>\n",
       "    <tr>\n",
       "      <th>부실기업여부</th>\n",
       "      <td>0.00</td>\n",
       "      <td>-0.32</td>\n",
       "      <td>-0.44</td>\n",
       "      <td>-0.60</td>\n",
       "      <td>-0.21</td>\n",
       "      <td>-0.16</td>\n",
       "      <td>0.48</td>\n",
       "      <td>1.00</td>\n",
       "      <td>0.59</td>\n",
       "    </tr>\n",
       "    <tr>\n",
       "      <th>부정기사비율</th>\n",
       "      <td>0.01</td>\n",
       "      <td>-0.24</td>\n",
       "      <td>-0.28</td>\n",
       "      <td>-0.41</td>\n",
       "      <td>-0.10</td>\n",
       "      <td>-0.14</td>\n",
       "      <td>0.53</td>\n",
       "      <td>0.59</td>\n",
       "      <td>1.00</td>\n",
       "    </tr>\n",
       "  </tbody>\n",
       "</table>\n",
       "</div>"
      ],
      "text/plain": [
       "            회계년도  운전자본비율  이익잉여금총자산비율  총자산이익율  시장가부채비율  매출액회전율  부도기사비율  부실기업여부  \\\n",
       "회계년도        1.00   -0.13        0.02   -0.06    -0.06   -0.03   -0.01    0.00   \n",
       "운전자본비율     -0.13    1.00        0.18    0.43     0.62   -0.03   -0.21   -0.32   \n",
       "이익잉여금총자산비율  0.02    0.18        1.00    0.53     0.16    0.14   -0.22   -0.44   \n",
       "총자산이익율     -0.06    0.43        0.53    1.00     0.22    0.25   -0.35   -0.60   \n",
       "시장가부채비율    -0.06    0.62        0.16    0.22     1.00   -0.16   -0.14   -0.21   \n",
       "매출액회전율     -0.03   -0.03        0.14    0.25    -0.16    1.00   -0.11   -0.16   \n",
       "부도기사비율     -0.01   -0.21       -0.22   -0.35    -0.14   -0.11    1.00    0.48   \n",
       "부실기업여부      0.00   -0.32       -0.44   -0.60    -0.21   -0.16    0.48    1.00   \n",
       "부정기사비율      0.01   -0.24       -0.28   -0.41    -0.10   -0.14    0.53    0.59   \n",
       "\n",
       "            부정기사비율  \n",
       "회계년도          0.01  \n",
       "운전자본비율       -0.24  \n",
       "이익잉여금총자산비율   -0.28  \n",
       "총자산이익율       -0.41  \n",
       "시장가부채비율      -0.10  \n",
       "매출액회전율       -0.14  \n",
       "부도기사비율        0.53  \n",
       "부실기업여부        0.59  \n",
       "부정기사비율        1.00  "
      ]
     },
     "execution_count": 31,
     "metadata": {},
     "output_type": "execute_result"
    }
   ],
   "source": [
    "corr_df = data.corr()\n",
    "corr_df = corr_df.apply(lambda x: round(x ,2))\n",
    "corr_df"
   ]
  },
  {
   "cell_type": "code",
   "execution_count": 43,
   "metadata": {},
   "outputs": [
    {
     "data": {
      "text/plain": [
       "<AxesSubplot:>"
      ]
     },
     "execution_count": 43,
     "metadata": {},
     "output_type": "execute_result"
    },
    {
     "data": {
      "image/png": "[encoded data removed]",
      "text/plain": [
       "<Figure size 576x576 with 2 Axes>"
      ]
     },
     "metadata": {
      "needs_background": "light"
     },
     "output_type": "display_data"
    }
   ],
   "source": [
    "plt.figure(figsize=(8,8))\n",
    "plt.rcParams['font.family'] ='Malgun Gothic'\n",
    "\n",
    "plt.rcParams['axes.unicode_minus'] =False\n",
    "sns.heatmap(corr_df, annot=True, annot_kws=dict(color='g'))\n"
   ]
  },
  {
   "cell_type": "code",
   "execution_count": null,
   "metadata": {},
   "outputs": [
    {
     "name": "stdout",
     "output_type": "stream",
     "text": [
      "부실기업의 부정기사 비율 : 29.711582791883014\n",
      "정상기업의 부정기사 비율 : 13.883113450994268\n",
      "부정기사 비율의 차이 : 15.828469340888747\n"
     ]
    }
   ],
   "source": [
    "부실기업부정기사비율 = np.mean(data[data.부실기업여부==1].부정기사비율)\n",
    "정상기업부정기사비율 = np.mean(data[data.부실기업여부==0].부정기사비율)\n",
    "부정기사비율차이 = 부실기업부정기사비율 - 정상기업부정기사비율\n",
    "\n",
    "print(f'부실기업의 부정기사 비율 : {부실기업부정기사비율}')\n",
    "print(f'정상기업의 부정기사 비율 : {정상기업부정기사비율}')\n",
    "print(f'부정기사 비율의 차이 : {부정기사비율차이}')"
   ]
  },
  {
   "cell_type": "markdown",
   "metadata": {},
   "source": [
    "## XGBClassifier\n",
    "##### 설명 참고 : https://wooono.tistory.com/97"
   ]
  },
  {
   "cell_type": "code",
   "execution_count": 24,
   "metadata": {},
   "outputs": [
    {
     "name": "stdout",
     "output_type": "stream",
     "text": [
      "best f1 : 0.9352420306965762\n",
      "best param :  {'gamma': 0, 'learning_rate': 0.05, 'max_depth': 3, 'n_estimators': 200}\n"
     ]
    }
   ],
   "source": [
    "x_train, x_test, y_train, y_test = train_test_split(input, target, random_state=42, test_size=0.2)\n",
    "\n",
    "rs = RobustScaler()\n",
    "x_train = rs.fit_transform(x_train)\n",
    "x_test = rs.fit_transform(x_test)\n",
    "\n",
    "xgb = XGBClassifier(random_state=42)\n",
    "\n",
    "xgb_param_grid = {'n_estimators' : [100, 200],\n",
    "                'learning_rate' : [0.01, 0.05, 0.1],\n",
    "                'max_depth' : [3, 5, 7],\n",
    "                'gamma' : [0, 1, 2]}\n",
    "\n",
    "xgb_grid = GridSearchCV(xgb, param_grid=xgb_param_grid, scoring='roc_auc', verbose=0, n_jobs=1)\n",
    "xgb_grid.fit(x_train, y_train)\n",
    "\n",
    "print(f'best f1 : {xgb_grid.best_score_}')\n",
    "print('best param : ', xgb_grid.best_params_)\n",
    "\n",
    "## 참고 : https://cjh34544.tistory.com/m/4\n",
    "## http://aispiration.com/model/model-python-xgboost-hyper.html"
   ]
  },
  {
   "cell_type": "code",
   "execution_count": 24,
   "metadata": {},
   "outputs": [
    {
     "name": "stdout",
     "output_type": "stream",
     "text": [
      "best f1 : 0.8905352223534042\n",
      "best param :  {'gamma': 2, 'learning_rate': 0.01, 'max_depth': 3, 'n_estimators': 200}\n"
     ]
    }
   ],
   "source": [
    "x_train, x_test, y_train, y_test = train_test_split(input, target, random_state=42, test_size=0.2)\n",
    "\n",
    "xgb = XGBClassifier(random_state=42)\n",
    "\n",
    "xgb_param_grid = {'n_estimators' : [100, 200],\n",
    "                'learning_rate' : [0.01, 0.05, 0.1],\n",
    "                'max_depth' : [3, 5, 7],\n",
    "                'gamma' : [0, 1, 2]}\n",
    "\n",
    "xgb_grid = GridSearchCV(xgb, param_grid=xgb_param_grid, scoring='roc_auc', verbose=0, n_jobs=1)\n",
    "xgb_grid.fit(x_train, y_train)\n",
    "\n",
    "print(f'best f1 : {xgb_grid.best_score_}')\n",
    "print('best param : ', xgb_grid.best_params_)\n",
    "\n",
    "## 참고 : https://cjh34544.tistory.com/m/4\n",
    "## http://aispiration.com/model/model-python-xgboost-hyper.html"
   ]
  },
  {
   "cell_type": "markdown",
   "metadata": {},
   "source": [
    "## Logistic"
   ]
  },
  {
   "cell_type": "code",
   "execution_count": 25,
   "metadata": {},
   "outputs": [
    {
     "name": "stdout",
     "output_type": "stream",
     "text": [
      "best f1 : 0.9548799685163321\n",
      "best param :  {'C': 0.1, 'penalty': 'l2'}\n"
     ]
    },
    {
     "name": "stderr",
     "output_type": "stream",
     "text": [
      "C:\\Users\\dbswo\\AppData\\Local\\Programs\\Python\\Python38\\lib\\site-packages\\sklearn\\model_selection\\_validation.py:378: FitFailedWarning: \n",
      "25 fits failed out of a total of 50.\n",
      "The score on these train-test partitions for these parameters will be set to nan.\n",
      "If these failures are not expected, you can try to debug them by setting error_score='raise'.\n",
      "\n",
      "Below are more details about the failures:\n",
      "--------------------------------------------------------------------------------\n",
      "25 fits failed with the following error:\n",
      "Traceback (most recent call last):\n",
      "  File \"C:\\Users\\dbswo\\AppData\\Local\\Programs\\Python\\Python38\\lib\\site-packages\\sklearn\\model_selection\\_validation.py\", line 686, in _fit_and_score\n",
      "    estimator.fit(X_train, y_train, **fit_params)\n",
      "  File \"C:\\Users\\dbswo\\AppData\\Local\\Programs\\Python\\Python38\\lib\\site-packages\\sklearn\\linear_model\\_logistic.py\", line 1091, in fit\n",
      "    solver = _check_solver(self.solver, self.penalty, self.dual)\n",
      "  File \"C:\\Users\\dbswo\\AppData\\Local\\Programs\\Python\\Python38\\lib\\site-packages\\sklearn\\linear_model\\_logistic.py\", line 61, in _check_solver\n",
      "    raise ValueError(\n",
      "ValueError: Solver lbfgs supports only 'l2' or 'none' penalties, got l1 penalty.\n",
      "\n",
      "  warnings.warn(some_fits_failed_message, FitFailedWarning)\n",
      "C:\\Users\\dbswo\\AppData\\Local\\Programs\\Python\\Python38\\lib\\site-packages\\sklearn\\model_selection\\_search.py:953: UserWarning: One or more of the test scores are non-finite: [       nan 0.9504329         nan 0.95470287        nan 0.95487997\n",
      "        nan 0.94984258        nan 0.94984258]\n",
      "  warnings.warn(\n"
     ]
    }
   ],
   "source": [
    "x_train, x_test, y_train, y_test = train_test_split(input, target, random_state=42, test_size=0.2)\n",
    "\n",
    "rs = RobustScaler()\n",
    "x_train = rs.fit_transform(x_train)\n",
    "x_test = rs.fit_transform(x_test)\n",
    "\n",
    "lr = LogisticRegression(random_state=42)\n",
    "\n",
    "lr_param_grid = {'C' : [0.001, 0.01, 0.1, 1, 10],\n",
    "                'penalty' : ['l1', 'l2']}\n",
    "\n",
    "lr_grid = GridSearchCV(lr, param_grid=lr_param_grid, scoring='roc_auc', verbose=0, n_jobs=1)\n",
    "lr_grid.fit(x_train, y_train)\n",
    "\n",
    "print(f'best f1 : {lr_grid.best_score_}')\n",
    "print('best param : ', lr_grid.best_params_)\n",
    "\n",
    "# 참고 : https://wikidocs.net/16594\n"
   ]
  },
  {
   "cell_type": "code",
   "execution_count": 26,
   "metadata": {},
   "outputs": [
    {
     "name": "stdout",
     "output_type": "stream",
     "text": [
      "best f1 : 0.9005312868949232\n",
      "best param :  {'C': 0.01, 'penalty': 'l2'}\n"
     ]
    },
    {
     "name": "stderr",
     "output_type": "stream",
     "text": [
      "C:\\Users\\dbswo\\AppData\\Local\\Programs\\Python\\Python38\\lib\\site-packages\\sklearn\\model_selection\\_validation.py:378: FitFailedWarning: \n",
      "25 fits failed out of a total of 50.\n",
      "The score on these train-test partitions for these parameters will be set to nan.\n",
      "If these failures are not expected, you can try to debug them by setting error_score='raise'.\n",
      "\n",
      "Below are more details about the failures:\n",
      "--------------------------------------------------------------------------------\n",
      "25 fits failed with the following error:\n",
      "Traceback (most recent call last):\n",
      "  File \"C:\\Users\\dbswo\\AppData\\Local\\Programs\\Python\\Python38\\lib\\site-packages\\sklearn\\model_selection\\_validation.py\", line 686, in _fit_and_score\n",
      "    estimator.fit(X_train, y_train, **fit_params)\n",
      "  File \"C:\\Users\\dbswo\\AppData\\Local\\Programs\\Python\\Python38\\lib\\site-packages\\sklearn\\linear_model\\_logistic.py\", line 1091, in fit\n",
      "    solver = _check_solver(self.solver, self.penalty, self.dual)\n",
      "  File \"C:\\Users\\dbswo\\AppData\\Local\\Programs\\Python\\Python38\\lib\\site-packages\\sklearn\\linear_model\\_logistic.py\", line 61, in _check_solver\n",
      "    raise ValueError(\n",
      "ValueError: Solver lbfgs supports only 'l2' or 'none' penalties, got l1 penalty.\n",
      "\n",
      "  warnings.warn(some_fits_failed_message, FitFailedWarning)\n",
      "C:\\Users\\dbswo\\AppData\\Local\\Programs\\Python\\Python38\\lib\\site-packages\\sklearn\\model_selection\\_search.py:953: UserWarning: One or more of the test scores are non-finite: [       nan 0.89925226        nan 0.90053129        nan 0.90007871\n",
      "        nan 0.90049193        nan 0.90005903]\n",
      "  warnings.warn(\n"
     ]
    }
   ],
   "source": [
    "x_train, x_test, y_train, y_test = train_test_split(input, target, random_state=42, test_size=0.2)\n",
    "\n",
    "lr = LogisticRegression(random_state=42)\n",
    "\n",
    "lr_param_grid = {'C' : [0.001, 0.01, 0.1, 1, 10],\n",
    "                'penalty' : ['l1', 'l2']}\n",
    "\n",
    "lr_grid = GridSearchCV(lr, param_grid=lr_param_grid, scoring='roc_auc', verbose=0, n_jobs=1)\n",
    "lr_grid.fit(x_train, y_train)\n",
    "\n",
    "print(f'best f1 : {lr_grid.best_score_}')\n",
    "print('best param : ', lr_grid.best_params_)\n",
    "\n",
    "# 참고 : https://wikidocs.net/16594"
   ]
  },
  {
   "cell_type": "markdown",
   "metadata": {},
   "source": [
    "## RandomForest"
   ]
  },
  {
   "cell_type": "code",
   "execution_count": 26,
   "metadata": {},
   "outputs": [
    {
     "name": "stdout",
     "output_type": "stream",
     "text": [
      "best f1 : 0.9497441951987406\n",
      "best param :  {'max_depth': 3, 'min_samples_leaf': 16, 'min_samples_split': 8, 'n_estimators': 100}\n"
     ]
    }
   ],
   "source": [
    "x_train, x_test, y_train, y_test = train_test_split(input, target, random_state=42, test_size=0.2)\n",
    "\n",
    "rs = RobustScaler()\n",
    "x_train = rs.fit_transform(x_train)\n",
    "x_test = rs.fit_transform(x_test)\n",
    "\n",
    "rf = RandomForestClassifier(random_state=42)\n",
    "\n",
    "rf_param_grid = {'n_estimators' : [100, 200],\n",
    "                'max_depth' : [3, 5, 7],\n",
    "                'min_samples_leaf' : [8, 12, 16],\n",
    "                'min_samples_split' : [8, 16, 20]}\n",
    "\n",
    "rf_grid = GridSearchCV(rf, param_grid=rf_param_grid, scoring='roc_auc', verbose=0, n_jobs=1)\n",
    "rf_grid.fit(x_train, y_train)\n",
    "\n",
    "print(f'best f1 : {rf_grid.best_score_}')\n",
    "print('best param : ', rf_grid.best_params_)\n",
    "\n",
    "## 참고 : https://techblog-history-younghunjo1.tistory.com/102\n",
    "## https://jaaamj.tistory.com/35\n"
   ]
  },
  {
   "cell_type": "code",
   "execution_count": 28,
   "metadata": {},
   "outputs": [
    {
     "name": "stdout",
     "output_type": "stream",
     "text": [
      "best f1 : 0.9028335301062574\n",
      "best param :  {'max_depth': 5, 'min_samples_leaf': 16, 'min_samples_split': 8, 'n_estimators': 100}\n"
     ]
    }
   ],
   "source": [
    "x_train, x_test, y_train, y_test = train_test_split(input, target, random_state=42, test_size=0.2)\n",
    "\n",
    "rf = RandomForestClassifier(random_state=42)\n",
    "\n",
    "rf_param_grid = {'n_estimators' : [100, 200],\n",
    "                'max_depth' : [3, 5, 7],\n",
    "                'min_samples_leaf' : [8, 12, 16],\n",
    "                'min_samples_split' : [8, 16, 20]}\n",
    "\n",
    "rf_grid = GridSearchCV(rf, param_grid=rf_param_grid, scoring='roc_auc', verbose=0, n_jobs=1)\n",
    "rf_grid.fit(x_train, y_train)\n",
    "\n",
    "print(f'best f1 : {rf_grid.best_score_}')\n",
    "print('best param : ', rf_grid.best_params_)\n",
    "\n",
    "## 참고 : https://techblog-history-younghunjo1.tistory.com/102\n",
    "## https://jaaamj.tistory.com/35"
   ]
  },
  {
   "cell_type": "markdown",
   "metadata": {},
   "source": [
    "## SVM"
   ]
  },
  {
   "cell_type": "code",
   "execution_count": 6,
   "metadata": {},
   "outputs": [
    {
     "name": "stdout",
     "output_type": "stream",
     "text": [
      "best f1 : 0.9570444706808343\n",
      "best param :  {'C': 1, 'gamma': 0.01}\n"
     ]
    }
   ],
   "source": [
    "x_train, x_test, y_train, y_test = train_test_split(input, target, random_state=42, test_size=0.2)\n",
    "\n",
    "rs = RobustScaler()\n",
    "x_train = rs.fit_transform(x_train)\n",
    "x_test = rs.fit_transform(x_test)\n",
    "\n",
    "svc = SVC(random_state=42)\n",
    "\n",
    "svc_param_grid = {'C' : [0.001, 0.01, 0.1, 1, 10],\n",
    "                'gamma' : [0.001, 0.01, 0.1, 1, 10]}\n",
    "\n",
    "svc_grid = GridSearchCV(svc, param_grid=svc_param_grid, scoring='roc_auc', verbose=0, n_jobs=1)\n",
    "svc_grid.fit(x_train, y_train)\n",
    "\n",
    "print(f'best f1 : {svc_grid.best_score_}')\n",
    "print('best param : ', svc_grid.best_params_)"
   ]
  },
  {
   "cell_type": "code",
   "execution_count": 30,
   "metadata": {},
   "outputs": [
    {
     "name": "stdout",
     "output_type": "stream",
     "text": [
      "best f1 : 0.7387137055783515\n",
      "best param :  {'C': 1, 'gamma': 0.001}\n"
     ]
    }
   ],
   "source": [
    "x_train, x_test, y_train, y_test = train_test_split(input, target, random_state=42, test_size=0.2)\n",
    "\n",
    "svc = SVC(random_state=42)\n",
    "\n",
    "svc_param_grid = {'C' : [0.001, 0.01, 0.1, 1, 10],\n",
    "                'gamma' : [0.001, 0.01, 0.1, 1, 10]}\n",
    "\n",
    "svc_grid = GridSearchCV(svc, param_grid=svc_param_grid, scoring='roc_auc', verbose=0, n_jobs=1)\n",
    "svc_grid.fit(x_train, y_train)\n",
    "\n",
    "print(f'best f1 : {svc_grid.best_score_}')\n",
    "print('best param : ', svc_grid.best_params_)"
   ]
  },
  {
   "cell_type": "markdown",
   "metadata": {},
   "source": [
    "### CatBoostClassifier는 파라미터 조정이 성능에 크게 영향을 미치지 않는다는 말이 많아 일단 생략함\n",
    "##### https://velog.io/@jus6886/Catboost\n",
    "##### https://undeadkwandoll.tistory.com/61\n",
    "##### https://www.kci.go.kr/kciportal/ci/sereArticleSearch/ciSereArtiView.kci?sereArticleSearchBean.artiId=ART002698429\n",
    "#### CatBoost 설명\n",
    "##### https://dailyheumsi.tistory.com/136\n",
    "##### https://techblog-history-younghunjo1.tistory.com/199\n",
    "##### https://heeya-stupidbutstudying.tistory.com/43?category=950711"
   ]
  },
  {
   "cell_type": "code",
   "execution_count": 29,
   "metadata": {},
   "outputs": [
    {
     "name": "stdout",
     "output_type": "stream",
     "text": [
      "0.7774725274725274\n"
     ]
    }
   ],
   "source": [
    "x_train, x_test, y_train, y_test = train_test_split(input, target, random_state=42, test_size=0.2)\n",
    "\n",
    "rs = RobustScaler()\n",
    "x_train = rs.fit_transform(x_train)\n",
    "x_test = rs.fit_transform(x_test)\n",
    "\n",
    "cat = CatBoostClassifier(random_state=42, verbose=0)\n",
    "cat.fit(x_train, y_train)\n",
    "pred = cat.predict(x_test)\n",
    "\n",
    "acc = accuracy_score(y_test, pred)\n",
    "recall = recall_score(y_test, pred)\n",
    "precision = precision_score(y_test, pred)\n",
    "roc = roc_auc_score(y_test, pred)\n",
    "\n",
    "print(roc)"
   ]
  },
  {
   "cell_type": "markdown",
   "metadata": {},
   "source": [
    "#### Boosting Model 비교\n",
    "##### https://medium.com/@divyagera2402/boosting-algorithms-adaboost-gradient-boosting-xgb-light-gbm-and-catboost-e7d2dbc4e4ca\n",
    "##### http://dmqm.korea.ac.kr/activity/seminar/323\n",
    "##### https://hyunlee103.tistory.com/25\n",
    "##### https://neptune.ai/blog/when-to-choose-catboost-over-xgboost-or-lightgbm\n",
    "\n",
    "\n"
   ]
  },
  {
   "cell_type": "markdown",
   "metadata": {},
   "source": [
    "#### 한 것요약\n",
    "##### 원핫인코딩은 차원을 늘려 과적합되기 쉽다. 물론 규제로 어느정도 커버할 수 있으나 트리계열에서는 해당 변수가 아예 제외되는 문제점을 가진다. 차원의 저주 등등\n",
    "##### catboost는 파라미터 수정을 하지 않아도 효과가 나쁘지 않다\n",
    "##### lightgbm은 데이터의 수가 너무 적어 사용할 수 없다\n",
    "##### ROC가 F1보다 불균형 데이터 셋에 대해 관대한? 경향이 있어서 불균형 데이터 셋에는 F1을 평가지표로 사용한다.\n"
   ]
  },
  {
   "cell_type": "code",
   "execution_count": null,
   "metadata": {},
   "outputs": [],
   "source": []
  }
 ],
 "metadata": {
  "kernelspec": {
   "display_name": "Python 3.8.0 64-bit",
   "language": "python",
   "name": "python3"
  },
  "language_info": {
   "codemirror_mode": {
    "name": "ipython",
    "version": 3
   },
   "file_extension": ".py",
   "mimetype": "text/x-python",
   "name": "python",
   "nbconvert_exporter": "python",
   "pygments_lexer": "ipython3",
   "version": "3.8.0"
  },
  "orig_nbformat": 4,
  "vscode": {
   "interpreter": {
    "hash": "c2e55c9285be7209c352033cdce09d8fd6005e5e0666f201e74b15d445dd77cd"
   }
  }
 },
 "nbformat": 4,
 "nbformat_minor": 2
}
