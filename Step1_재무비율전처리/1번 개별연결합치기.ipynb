{
 "cells": [
  {
   "cell_type": "code",
   "execution_count": 1,
   "metadata": {},
   "outputs": [],
   "source": [
    "import pandas as pd\n",
    "import numpy as np\n",
    "\n",
    "data = pd.read_csv(\"./datasets/연간보고서19전처리전.csv\", encoding='CP949')"
   ]
  },
  {
   "cell_type": "code",
   "execution_count": 2,
   "metadata": {},
   "outputs": [
    {
     "data": {
      "text/plain": [
       "(1472, 19)"
      ]
     },
     "execution_count": 2,
     "metadata": {},
     "output_type": "execute_result"
    }
   ],
   "source": [
    "data.shape"
   ]
  },
  {
   "cell_type": "code",
   "execution_count": 3,
   "metadata": {},
   "outputs": [],
   "source": [
    "data1=data"
   ]
  },
  {
   "cell_type": "code",
   "execution_count": 4,
   "metadata": {},
   "outputs": [],
   "source": [
    "column_list=data.columns[3:]"
   ]
  },
  {
   "cell_type": "code",
   "execution_count": 5,
   "metadata": {},
   "outputs": [
    {
     "data": {
      "text/plain": [
       "Index(['자산(*)(연결)', '자산(*)', '영업이익(손실)', '영업이익(손실)(연결)', '부채(*)(연결)', '부채(*)',\n",
       "       '자본(*)(연결)', '자본(*)', '매출액(영업수익)(*)(연결)', '매출액(영업수익)(*)', '유동자산(*)(연결)',\n",
       "       '유동자산(*)', '유동부채(*)(연결)', '유동부채(*)', '이익잉여금(*)(연결)', '이익잉여금(*)'],\n",
       "      dtype='object')"
      ]
     },
     "execution_count": 5,
     "metadata": {},
     "output_type": "execute_result"
    }
   ],
   "source": [
    "column_list"
   ]
  },
  {
   "cell_type": "code",
   "execution_count": 6,
   "metadata": {},
   "outputs": [
    {
     "name": "stderr",
     "output_type": "stream",
     "text": [
      "  0%|          | 0/8 [00:00<?, ?it/s]C:\\Users\\dbswo\\AppData\\Local\\Temp\\ipykernel_13692\\346431395.py:7: SettingWithCopyWarning: \n",
      "A value is trying to be set on a copy of a slice from a DataFrame\n",
      "\n",
      "See the caveats in the documentation: https://pandas.pydata.org/pandas-docs/stable/user_guide/indexing.html#returning-a-view-versus-a-copy\n",
      "  data1[column_list[i]][j]=data1[column_list[i+1]][j]\n",
      "100%|██████████| 8/8 [00:00<00:00, 11.40it/s]\n"
     ]
    }
   ],
   "source": [
    "# if df_1[\"복리후생비(연결)(천원)\"]\n",
    "from tqdm import tqdm\n",
    "import numpy as np\n",
    "for i in tqdm(np.arange(0,len(column_list),2)):\n",
    "    for j in range(data1.shape[0]):\n",
    "        if np.isnan(data1[column_list[i]][j]) :\n",
    "            data1[column_list[i]][j]=data1[column_list[i+1]][j]"
   ]
  },
  {
   "cell_type": "code",
   "execution_count": 8,
   "metadata": {},
   "outputs": [
    {
     "data": {
      "text/plain": [
       "19"
      ]
     },
     "execution_count": 8,
     "metadata": {},
     "output_type": "execute_result"
    }
   ],
   "source": [
    "len(data1.columns)"
   ]
  },
  {
   "cell_type": "code",
   "execution_count": 9,
   "metadata": {},
   "outputs": [],
   "source": [
    "len(data1.columns[np.arange(4,20,2)])\n",
    "data1=data1.drop(data1.columns[np.arange(4,20,2)],axis=1)"
   ]
  },
  {
   "cell_type": "code",
   "execution_count": 11,
   "metadata": {},
   "outputs": [],
   "source": [
    "columns_ = ['회사명', '거래소코드', '회계년도', '자산', '영업이익', '부채', '자본', '매출액', '유동자산', '유동부채', '이익잉여금']\n",
    "data1.columns = columns_"
   ]
  },
  {
   "cell_type": "code",
   "execution_count": 15,
   "metadata": {},
   "outputs": [],
   "source": [
    "data1.to_csv('./datasets/연간보고서19.csv',encoding='CP949', index=None)"
   ]
  }
 ],
 "metadata": {
  "kernelspec": {
   "display_name": "Python 3.8.8 64-bit",
   "language": "python",
   "name": "python3"
  },
  "language_info": {
   "codemirror_mode": {
    "name": "ipython",
    "version": 3
   },
   "file_extension": ".py",
   "mimetype": "text/x-python",
   "name": "python",
   "nbconvert_exporter": "python",
   "pygments_lexer": "ipython3",
   "version": "3.8.8"
  },
  "orig_nbformat": 4,
  "vscode": {
   "interpreter": {
    "hash": "c2e55c9285be7209c352033cdce09d8fd6005e5e0666f201e74b15d445dd77cd"
   }
  }
 },
 "nbformat": 4,
 "nbformat_minor": 2
}
