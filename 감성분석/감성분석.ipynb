{
 "cells": [
  {
   "cell_type": "code",
   "execution_count": 9,
   "metadata": {},
   "outputs": [],
   "source": [
    "import pandas as pd\n",
    "import re\n",
    "from konlpy.tag import Okt\n",
    "from eunjeon import "
   ]
  },
  {
   "cell_type": "code",
   "execution_count": 3,
   "metadata": {},
   "outputs": [
    {
     "name": "stderr",
     "output_type": "stream",
     "text": [
      "C:\\Users\\dbswo\\AppData\\Local\\Temp\\ipykernel_9676\\3589820281.py:10: FutureWarning: Possible nested set at position 1\n",
      "  상폐기업뉴스['뉴스기사본문전처리'] = [re.sub('[[ \\s]{2,}\\.{2,}]', '', s) for s in 상폐기업뉴스['뉴스기사본문전처리']]\n"
     ]
    },
    {
     "data": {
      "text/html": [
       "<div>\n",
       "<style scoped>\n",
       "    .dataframe tbody tr th:only-of-type {\n",
       "        vertical-align: middle;\n",
       "    }\n",
       "\n",
       "    .dataframe tbody tr th {\n",
       "        vertical-align: top;\n",
       "    }\n",
       "\n",
       "    .dataframe thead th {\n",
       "        text-align: right;\n",
       "    }\n",
       "</style>\n",
       "<table border=\"1\" class=\"dataframe\">\n",
       "  <thead>\n",
       "    <tr style=\"text-align: right;\">\n",
       "      <th></th>\n",
       "      <th>기업</th>\n",
       "      <th>기사발행일</th>\n",
       "      <th>기사제목</th>\n",
       "      <th>뉴스기사본문전처리</th>\n",
       "    </tr>\n",
       "  </thead>\n",
       "  <tbody>\n",
       "    <tr>\n",
       "      <th>0</th>\n",
       "      <td>네이쳐글로벌</td>\n",
       "      <td>2010.08.16. 오후 5:21</td>\n",
       "      <td>네이쳐글로벌, 반기검토의견 \"의견거절'…거래정지</td>\n",
       "      <td>네이쳐글로벌는 일 반기 검토 의견이 의견거절로 관리종목 지정 사유가 발생했다고 공시...</td>\n",
       "    </tr>\n",
       "    <tr>\n",
       "      <th>1</th>\n",
       "      <td>네이쳐글로벌</td>\n",
       "      <td>2010.07.15. 오후 6:46</td>\n",
       "      <td>네이쳐글로벌 신용등급 `CC`로 두단계 하향</td>\n",
       "      <td>네이쳐글로벌의 신용등급을 기존 에서 으로 하향 조정한다고 한신정평가가 일 밝혔다....</td>\n",
       "    </tr>\n",
       "    <tr>\n",
       "      <th>2</th>\n",
       "      <td>네이쳐글로벌</td>\n",
       "      <td>2010.06.03. 오후 5:06</td>\n",
       "      <td>네이쳐글로벌, 20대 1 감자 실시</td>\n",
       "      <td>네이쳐글로벌은 대  감자를 결의했다고 일 공시했다.감자 주주총회일은 다음달 일 감...</td>\n",
       "    </tr>\n",
       "    <tr>\n",
       "      <th>3</th>\n",
       "      <td>네이쳐글로벌</td>\n",
       "      <td>2010.05.24. 오전 10:41</td>\n",
       "      <td>&lt;생생코스닥&gt; 네이쳐글로벌 3거래일 연속 하한가</td>\n",
       "      <td>네이쳐글로벌이 연 거래일 연속 하한가를 기록하며 주가가 원 선　마저 위협 받고 있다...</td>\n",
       "    </tr>\n",
       "    <tr>\n",
       "      <th>4</th>\n",
       "      <td>네이쳐글로벌</td>\n",
       "      <td>2010.05.18. 오후 1:23</td>\n",
       "      <td>네이쳐글로벌 \"생수시장 진출 하반기 150억 계획\"</td>\n",
       "      <td>네이쳐글로벌은 대규모 생수회사를 자산양수도 방식으로 인수 추진 중이라고 일 밝혔다....</td>\n",
       "    </tr>\n",
       "    <tr>\n",
       "      <th>...</th>\n",
       "      <td>...</td>\n",
       "      <td>...</td>\n",
       "      <td>...</td>\n",
       "      <td>...</td>\n",
       "    </tr>\n",
       "    <tr>\n",
       "      <th>2695</th>\n",
       "      <td>코썬바이오</td>\n",
       "      <td>2020.01.09. 오전 10:07</td>\n",
       "      <td>코썬바이오, 상한가 진입... 이평선 역배열 상황에서 반등 시도</td>\n",
       "      <td>코썬바이오일 오전 코썬바이오가 상한가를 기록했다. 코썬바이오는 균형생식환 황찬고 등...</td>\n",
       "    </tr>\n",
       "    <tr>\n",
       "      <th>2696</th>\n",
       "      <td>코썬바이오</td>\n",
       "      <td>2020.03.04. 오후 5:45</td>\n",
       "      <td>코썬바이오, 거래소에 개선계획서 제출</td>\n",
       "      <td>한국거래소 코스닥시장본부는 일 상장적격성 실질심사 대상으로 결정된 코썬바이오가 개...</td>\n",
       "    </tr>\n",
       "    <tr>\n",
       "      <th>2697</th>\n",
       "      <td>코썬바이오</td>\n",
       "      <td>2020.01.10. 오후 6:42</td>\n",
       "      <td>코썬바이오 거래정지</td>\n",
       "      <td>한국거래소는 코스닥 상장기업인 코썬바이오에 대해 월 일부터 상장적격성 실질심사 대상...</td>\n",
       "    </tr>\n",
       "    <tr>\n",
       "      <th>2698</th>\n",
       "      <td>코썬바이오</td>\n",
       "      <td>2019.12.27. 오후 6:13</td>\n",
       "      <td>코썬바이오, 10억원 규모 유상증자 결정</td>\n",
       "      <td>코썬바이오는 운영자금 억원을 조달하기 위해 제자배정증자 방식의 유상증자를 결정했다...</td>\n",
       "    </tr>\n",
       "    <tr>\n",
       "      <th>2699</th>\n",
       "      <td>코썬바이오</td>\n",
       "      <td>2019.12.20. 오후 6:05</td>\n",
       "      <td>코썬바이오 거래정지</td>\n",
       "      <td>한국거래소는 코스닥 상장기업인 코썬바이오에 대해 월 일 하루동안 보통주에 대한 주권...</td>\n",
       "    </tr>\n",
       "  </tbody>\n",
       "</table>\n",
       "<p>2700 rows × 4 columns</p>\n",
       "</div>"
      ],
      "text/plain": [
       "          기업                 기사발행일                                 기사제목  \\\n",
       "0     네이쳐글로벌   2010.08.16. 오후 5:21           네이쳐글로벌, 반기검토의견 \"의견거절'…거래정지   \n",
       "1     네이쳐글로벌   2010.07.15. 오후 6:46             네이쳐글로벌 신용등급 `CC`로 두단계 하향   \n",
       "2     네이쳐글로벌   2010.06.03. 오후 5:06                  네이쳐글로벌, 20대 1 감자 실시   \n",
       "3     네이쳐글로벌  2010.05.24. 오전 10:41           <생생코스닥> 네이쳐글로벌 3거래일 연속 하한가   \n",
       "4     네이쳐글로벌   2010.05.18. 오후 1:23         네이쳐글로벌 \"생수시장 진출 하반기 150억 계획\"   \n",
       "...      ...                   ...                                  ...   \n",
       "2695   코썬바이오  2020.01.09. 오전 10:07  코썬바이오, 상한가 진입... 이평선 역배열 상황에서 반등 시도   \n",
       "2696   코썬바이오   2020.03.04. 오후 5:45                 코썬바이오, 거래소에 개선계획서 제출   \n",
       "2697   코썬바이오   2020.01.10. 오후 6:42                           코썬바이오 거래정지   \n",
       "2698   코썬바이오   2019.12.27. 오후 6:13               코썬바이오, 10억원 규모 유상증자 결정   \n",
       "2699   코썬바이오   2019.12.20. 오후 6:05                           코썬바이오 거래정지   \n",
       "\n",
       "                                              뉴스기사본문전처리  \n",
       "0     네이쳐글로벌는 일 반기 검토 의견이 의견거절로 관리종목 지정 사유가 발생했다고 공시...  \n",
       "1      네이쳐글로벌의 신용등급을 기존 에서 으로 하향 조정한다고 한신정평가가 일 밝혔다....  \n",
       "2      네이쳐글로벌은 대  감자를 결의했다고 일 공시했다.감자 주주총회일은 다음달 일 감...  \n",
       "3     네이쳐글로벌이 연 거래일 연속 하한가를 기록하며 주가가 원 선　마저 위협 받고 있다...  \n",
       "4     네이쳐글로벌은 대규모 생수회사를 자산양수도 방식으로 인수 추진 중이라고 일 밝혔다....  \n",
       "...                                                 ...  \n",
       "2695  코썬바이오일 오전 코썬바이오가 상한가를 기록했다. 코썬바이오는 균형생식환 황찬고 등...  \n",
       "2696   한국거래소 코스닥시장본부는 일 상장적격성 실질심사 대상으로 결정된 코썬바이오가 개...  \n",
       "2697  한국거래소는 코스닥 상장기업인 코썬바이오에 대해 월 일부터 상장적격성 실질심사 대상...  \n",
       "2698   코썬바이오는 운영자금 억원을 조달하기 위해 제자배정증자 방식의 유상증자를 결정했다...  \n",
       "2699  한국거래소는 코스닥 상장기업인 코썬바이오에 대해 월 일 하루동안 보통주에 대한 주권...  \n",
       "\n",
       "[2700 rows x 4 columns]"
      ]
     },
     "execution_count": 3,
     "metadata": {},
     "output_type": "execute_result"
    }
   ],
   "source": [
    "상폐기업뉴스 = pd.read_csv('../news_preprocess/상폐기업뉴스전처리.csv')\n",
    "상폐기업뉴스.drop('Unnamed: 0', axis=1, inplace=True)\n",
    "\n",
    "pattern1 = r'\\([^)]*\\)'\n",
    "pattern2 = r\"\\[([^]]+)\\]\"\n",
    "\n",
    "상폐기업뉴스['뉴스기사본문전처리'] = [re.sub(pattern1, '', s) for s in 상폐기업뉴스['뉴스기사본문']]\n",
    "상폐기업뉴스['뉴스기사본문전처리'] = [re.sub(pattern2, '', s) for s in 상폐기업뉴스['뉴스기사본문전처리']]\n",
    "상폐기업뉴스['뉴스기사본문전처리'] = [re.sub('[^/^$|\\s+/가-힣\\.]', '', s) for s in 상폐기업뉴스['뉴스기사본문전처리']]\n",
    "상폐기업뉴스['뉴스기사본문전처리'] = [re.sub('[[ \\s]{2,}\\.{2,}]', '', s) for s in 상폐기업뉴스['뉴스기사본문전처리']]\n",
    "상폐기업뉴스['뉴스기사본문전처리'] = [re.sub('\\n', '', s) for s in 상폐기업뉴스['뉴스기사본문전처리']]\n",
    "상폐기업뉴스['뉴스기사본문전처리'] = [re.sub('[/+]', '', s) for s in 상폐기업뉴스['뉴스기사본문전처리']]\n",
    "상폐기업뉴스.drop('뉴스기사본문', axis=1, inplace=True)\n",
    "상폐기업뉴스"
   ]
  },
  {
   "cell_type": "code",
   "execution_count": 10,
   "metadata": {},
   "outputs": [
    {
     "ename": "JVMNotFoundException",
     "evalue": "No JVM shared library file (jvm.dll) found. Try setting up the JAVA_HOME environment variable properly.",
     "output_type": "error",
     "traceback": [
      "\u001b[1;31m---------------------------------------------------------------------------\u001b[0m",
      "\u001b[1;31mJVMNotFoundException\u001b[0m                      Traceback (most recent call last)",
      "\u001b[1;32mc:\\Users\\dbswo\\OneDrive\\Desktop\\논문복원\\감성분석\\감성분석.ipynb Cell 3'\u001b[0m in \u001b[0;36m<module>\u001b[1;34m\u001b[0m\n\u001b[1;32m----> <a href='vscode-notebook-cell:/c%3A/Users/dbswo/OneDrive/Desktop/%EB%85%BC%EB%AC%B8%EB%B3%B5%EC%9B%90/%EA%B0%90%EC%84%B1%EB%B6%84%EC%84%9D/%EA%B0%90%EC%84%B1%EB%B6%84%EC%84%9D.ipynb#ch0000002?line=0'>1</a>\u001b[0m okt \u001b[39m=\u001b[39m Okt()\n\u001b[0;32m      <a href='vscode-notebook-cell:/c%3A/Users/dbswo/OneDrive/Desktop/%EB%85%BC%EB%AC%B8%EB%B3%B5%EC%9B%90/%EA%B0%90%EC%84%B1%EB%B6%84%EC%84%9D/%EA%B0%90%EC%84%B1%EB%B6%84%EC%84%9D.ipynb#ch0000002?line=1'>2</a>\u001b[0m nouns \u001b[39m=\u001b[39m okt\u001b[39m.\u001b[39mmorphs(상폐기업뉴스[\u001b[39m'\u001b[39m\u001b[39m뉴스기사본문전처리\u001b[39m\u001b[39m'\u001b[39m][\u001b[39m1\u001b[39m])\n\u001b[0;32m      <a href='vscode-notebook-cell:/c%3A/Users/dbswo/OneDrive/Desktop/%EB%85%BC%EB%AC%B8%EB%B3%B5%EC%9B%90/%EA%B0%90%EC%84%B1%EB%B6%84%EC%84%9D/%EA%B0%90%EC%84%B1%EB%B6%84%EC%84%9D.ipynb#ch0000002?line=2'>3</a>\u001b[0m nouns\n",
      "File \u001b[1;32mc:\\프로그램\\lib\\site-packages\\konlpy\\tag\\_okt.py:51\u001b[0m, in \u001b[0;36mOkt.__init__\u001b[1;34m(self, jvmpath, max_heap_size)\u001b[0m\n\u001b[0;32m     49\u001b[0m \u001b[39mdef\u001b[39;00m \u001b[39m__init__\u001b[39m(\u001b[39mself\u001b[39m, jvmpath\u001b[39m=\u001b[39m\u001b[39mNone\u001b[39;00m, max_heap_size\u001b[39m=\u001b[39m\u001b[39m1024\u001b[39m):\n\u001b[0;32m     50\u001b[0m     \u001b[39mif\u001b[39;00m \u001b[39mnot\u001b[39;00m jpype\u001b[39m.\u001b[39misJVMStarted():\n\u001b[1;32m---> 51\u001b[0m         jvm\u001b[39m.\u001b[39;49minit_jvm(jvmpath, max_heap_size)\n\u001b[0;32m     53\u001b[0m     oktJavaPackage \u001b[39m=\u001b[39m jpype\u001b[39m.\u001b[39mJPackage(\u001b[39m'\u001b[39m\u001b[39mkr.lucypark.okt\u001b[39m\u001b[39m'\u001b[39m)\n\u001b[0;32m     54\u001b[0m     OktInterfaceJavaClass \u001b[39m=\u001b[39m oktJavaPackage\u001b[39m.\u001b[39mOktInterface\n",
      "File \u001b[1;32mc:\\프로그램\\lib\\site-packages\\konlpy\\jvm.py:55\u001b[0m, in \u001b[0;36minit_jvm\u001b[1;34m(jvmpath, max_heap_size)\u001b[0m\n\u001b[0;32m     52\u001b[0m args \u001b[39m=\u001b[39m [javadir, os\u001b[39m.\u001b[39msep]\n\u001b[0;32m     53\u001b[0m classpath \u001b[39m=\u001b[39m [f\u001b[39m.\u001b[39mformat(\u001b[39m*\u001b[39margs) \u001b[39mfor\u001b[39;00m f \u001b[39min\u001b[39;00m folder_suffix]\n\u001b[1;32m---> 55\u001b[0m jvmpath \u001b[39m=\u001b[39m jvmpath \u001b[39mor\u001b[39;00m jpype\u001b[39m.\u001b[39;49mgetDefaultJVMPath()\n\u001b[0;32m     57\u001b[0m \u001b[39m# NOTE: Temporary patch for Issue #76. Erase when possible.\u001b[39;00m\n\u001b[0;32m     58\u001b[0m \u001b[39mif\u001b[39;00m sys\u001b[39m.\u001b[39mplatform \u001b[39m==\u001b[39m \u001b[39m'\u001b[39m\u001b[39mdarwin\u001b[39m\u001b[39m'\u001b[39m\\\n\u001b[0;32m     59\u001b[0m         \u001b[39mand\u001b[39;00m jvmpath\u001b[39m.\u001b[39mfind(\u001b[39m'\u001b[39m\u001b[39m1.8.0\u001b[39m\u001b[39m'\u001b[39m) \u001b[39m>\u001b[39m \u001b[39m0\u001b[39m\\\n\u001b[0;32m     60\u001b[0m         \u001b[39mand\u001b[39;00m jvmpath\u001b[39m.\u001b[39mendswith(\u001b[39m'\u001b[39m\u001b[39mlibjvm.dylib\u001b[39m\u001b[39m'\u001b[39m):\n",
      "File \u001b[1;32mc:\\프로그램\\lib\\site-packages\\jpype\\_jvmfinder.py:74\u001b[0m, in \u001b[0;36mgetDefaultJVMPath\u001b[1;34m()\u001b[0m\n\u001b[0;32m     72\u001b[0m \u001b[39melse\u001b[39;00m:\n\u001b[0;32m     73\u001b[0m     finder \u001b[39m=\u001b[39m LinuxJVMFinder()\n\u001b[1;32m---> 74\u001b[0m \u001b[39mreturn\u001b[39;00m finder\u001b[39m.\u001b[39;49mget_jvm_path()\n",
      "File \u001b[1;32mc:\\프로그램\\lib\\site-packages\\jpype\\_jvmfinder.py:212\u001b[0m, in \u001b[0;36mJVMFinder.get_jvm_path\u001b[1;34m(self)\u001b[0m\n\u001b[0;32m    210\u001b[0m \u001b[39mif\u001b[39;00m jvm_notsupport_ext \u001b[39mis\u001b[39;00m \u001b[39mnot\u001b[39;00m \u001b[39mNone\u001b[39;00m:\n\u001b[0;32m    211\u001b[0m     \u001b[39mraise\u001b[39;00m jvm_notsupport_ext\n\u001b[1;32m--> 212\u001b[0m \u001b[39mraise\u001b[39;00m JVMNotFoundException(\u001b[39m\"\u001b[39m\u001b[39mNo JVM shared library file (\u001b[39m\u001b[39m{0}\u001b[39;00m\u001b[39m) \u001b[39m\u001b[39m\"\u001b[39m\n\u001b[0;32m    213\u001b[0m                            \u001b[39m\"\u001b[39m\u001b[39mfound. Try setting up the JAVA_HOME \u001b[39m\u001b[39m\"\u001b[39m\n\u001b[0;32m    214\u001b[0m                            \u001b[39m\"\u001b[39m\u001b[39menvironment variable properly.\u001b[39m\u001b[39m\"\u001b[39m\n\u001b[0;32m    215\u001b[0m                            \u001b[39m.\u001b[39mformat(\u001b[39mself\u001b[39m\u001b[39m.\u001b[39m_libfile))\n",
      "\u001b[1;31mJVMNotFoundException\u001b[0m: No JVM shared library file (jvm.dll) found. Try setting up the JAVA_HOME environment variable properly."
     ]
    }
   ],
   "source": [
    "okt = Okt()\n",
    "nouns = okt.morphs(상폐기업뉴스['뉴스기사본문전처리'][1])\n",
    "nouns"
   ]
  },
  {
   "cell_type": "code",
   "execution_count": 67,
   "metadata": {},
   "outputs": [
    {
     "ename": "TypeError",
     "evalue": "google_translator.translate() got an unexpected keyword argument 'dest'",
     "output_type": "error",
     "traceback": [
      "\u001b[1;31m---------------------------------------------------------------------------\u001b[0m",
      "\u001b[1;31mTypeError\u001b[0m                                 Traceback (most recent call last)",
      "\u001b[1;32mc:\\Users\\dbswo\\OneDrive\\Desktop\\논문복원\\감성분석\\감성분석.ipynb Cell 3'\u001b[0m in \u001b[0;36m<module>\u001b[1;34m\u001b[0m\n\u001b[0;32m      <a href='vscode-notebook-cell:/c%3A/Users/dbswo/OneDrive/Desktop/%EB%85%BC%EB%AC%B8%EB%B3%B5%EC%9B%90/%EA%B0%90%EC%84%B1%EB%B6%84%EC%84%9D/%EA%B0%90%EC%84%B1%EB%B6%84%EC%84%9D.ipynb#ch0000002?line=0'>1</a>\u001b[0m trans \u001b[39m=\u001b[39m google_translator()\n\u001b[0;32m      <a href='vscode-notebook-cell:/c%3A/Users/dbswo/OneDrive/Desktop/%EB%85%BC%EB%AC%B8%EB%B3%B5%EC%9B%90/%EA%B0%90%EC%84%B1%EB%B6%84%EC%84%9D/%EA%B0%90%EC%84%B1%EB%B6%84%EC%84%9D.ipynb#ch0000002?line=1'>2</a>\u001b[0m 뉴스번역 \u001b[39m=\u001b[39m []\n\u001b[1;32m----> <a href='vscode-notebook-cell:/c%3A/Users/dbswo/OneDrive/Desktop/%EB%85%BC%EB%AC%B8%EB%B3%B5%EC%9B%90/%EA%B0%90%EC%84%B1%EB%B6%84%EC%84%9D/%EA%B0%90%EC%84%B1%EB%B6%84%EC%84%9D.ipynb#ch0000002?line=2'>3</a>\u001b[0m trans1 \u001b[39m=\u001b[39m trans\u001b[39m.\u001b[39;49mtranslate(\u001b[39m'\u001b[39;49m\u001b[39m안녕하세요\u001b[39;49m\u001b[39m'\u001b[39;49m, lang_src\u001b[39m=\u001b[39;49m\u001b[39m'\u001b[39;49m\u001b[39mko\u001b[39;49m\u001b[39m'\u001b[39;49m, dest\u001b[39m=\u001b[39;49m\u001b[39m'\u001b[39;49m\u001b[39men\u001b[39;49m\u001b[39m'\u001b[39;49m)\n\u001b[0;32m      <a href='vscode-notebook-cell:/c%3A/Users/dbswo/OneDrive/Desktop/%EB%85%BC%EB%AC%B8%EB%B3%B5%EC%9B%90/%EA%B0%90%EC%84%B1%EB%B6%84%EC%84%9D/%EA%B0%90%EC%84%B1%EB%B6%84%EC%84%9D.ipynb#ch0000002?line=3'>4</a>\u001b[0m trans1\n",
      "\u001b[1;31mTypeError\u001b[0m: google_translator.translate() got an unexpected keyword argument 'dest'"
     ]
    }
   ],
   "source": [
    "trans = google_translator()\n",
    "뉴스번역 = []\n",
    "trans1 = trans.translate('안녕하세요', lang_src='ko', dest='en')\n",
    "trans1\n",
    "#for 뉴스 in 상폐기업뉴스['뉴스기사본문']:\n",
    "    "
   ]
  },
  {
   "cell_type": "code",
   "execution_count": 49,
   "metadata": {},
   "outputs": [
    {
     "data": {
      "text/plain": [
       "' 네이쳐글로벌의 신용등급을 기존 에서 으로 하향 조정한다고 한신정평가가 일 밝혔다.한신정평은 금융기관에 대한 신인도 저하 주력사업 약화에 따른 수익기반의 대폭적인 축소 신규사업의 높은 불확실성 소송 관련 우발채무의 현실화 가능성 등을 고려했다고 이번 등급 하향 배경을 설명했다.한신정평은 향후 신용등급을 더 내릴 수 있다는 의미에서 등급전망을 부정적으로 평가하고 저조한 현금흐름이 지속될 것으로 예상되는 가운데 불확실성 높은 신규사업 전개에 따른 투자부담 가능성을 고려했다고 말했다. 이데일리 문자로 시세추천진단상담정보   이데일리 모바일실시간 해외지수  가장 빠른 글로벌 경제뉴스금융정보 터미널 이데일리 종합 경제정보 미디어 이데일리  무단전재재배포 금지안방에서 만나는 가장 빠른 경제뉴스돈이 되는 재테크정보  이데일리이태호 '"
      ]
     },
     "execution_count": 49,
     "metadata": {},
     "output_type": "execute_result"
    }
   ],
   "source": [
    "상폐기업뉴스['뉴스기사본문전처리'][1]"
   ]
  },
  {
   "cell_type": "code",
   "execution_count": 66,
   "metadata": {},
   "outputs": [
    {
     "name": "stderr",
     "output_type": "stream",
     "text": [
      "c:\\프로그램\\lib\\site-packages\\urllib3\\connectionpool.py:1043: InsecureRequestWarning: Unverified HTTPS request is being made to host 'translate.google.cn'. Adding certificate verification is strongly advised. See: https://urllib3.readthedocs.io/en/1.26.x/advanced-usage.html#ssl-warnings\n",
      "  warnings.warn(\n"
     ]
    },
    {
     "ename": "JSONDecodeError",
     "evalue": "Extra data: line 1 column 730 (char 729)",
     "output_type": "error",
     "traceback": [
      "\u001b[1;31m---------------------------------------------------------------------------\u001b[0m",
      "\u001b[1;31mJSONDecodeError\u001b[0m                           Traceback (most recent call last)",
      "\u001b[1;32mc:\\Users\\dbswo\\OneDrive\\Desktop\\논문복원\\감성분석\\감성분석.ipynb Cell 5'\u001b[0m in \u001b[0;36m<module>\u001b[1;34m\u001b[0m\n\u001b[0;32m      <a href='vscode-notebook-cell:/c%3A/Users/dbswo/OneDrive/Desktop/%EB%85%BC%EB%AC%B8%EB%B3%B5%EC%9B%90/%EA%B0%90%EC%84%B1%EB%B6%84%EC%84%9D/%EA%B0%90%EC%84%B1%EB%B6%84%EC%84%9D.ipynb#ch0000005?line=0'>1</a>\u001b[0m \u001b[39mfrom\u001b[39;00m \u001b[39mgoogle_trans_new\u001b[39;00m \u001b[39mimport\u001b[39;00m google_translator  \n\u001b[0;32m      <a href='vscode-notebook-cell:/c%3A/Users/dbswo/OneDrive/Desktop/%EB%85%BC%EB%AC%B8%EB%B3%B5%EC%9B%90/%EA%B0%90%EC%84%B1%EB%B6%84%EC%84%9D/%EA%B0%90%EC%84%B1%EB%B6%84%EC%84%9D.ipynb#ch0000005?line=2'>3</a>\u001b[0m translator \u001b[39m=\u001b[39m google_translator()  \n\u001b[1;32m----> <a href='vscode-notebook-cell:/c%3A/Users/dbswo/OneDrive/Desktop/%EB%85%BC%EB%AC%B8%EB%B3%B5%EC%9B%90/%EA%B0%90%EC%84%B1%EB%B6%84%EC%84%9D/%EA%B0%90%EC%84%B1%EB%B6%84%EC%84%9D.ipynb#ch0000005?line=4'>5</a>\u001b[0m translate_text \u001b[39m=\u001b[39m translator\u001b[39m.\u001b[39;49mtranslate(\u001b[39m'\u001b[39;49m\u001b[39m안녕하세요\u001b[39;49m\u001b[39m'\u001b[39;49m,lang_src\u001b[39m=\u001b[39;49m\u001b[39m'\u001b[39;49m\u001b[39mko\u001b[39;49m\u001b[39m'\u001b[39;49m, lang_tgt\u001b[39m=\u001b[39;49m\u001b[39m'\u001b[39;49m\u001b[39men\u001b[39;49m\u001b[39m'\u001b[39;49m)  \n\u001b[0;32m      <a href='vscode-notebook-cell:/c%3A/Users/dbswo/OneDrive/Desktop/%EB%85%BC%EB%AC%B8%EB%B3%B5%EC%9B%90/%EA%B0%90%EC%84%B1%EB%B6%84%EC%84%9D/%EA%B0%90%EC%84%B1%EB%B6%84%EC%84%9D.ipynb#ch0000005?line=6'>7</a>\u001b[0m \u001b[39mprint\u001b[39m(translate_text)\n",
      "File \u001b[1;32mc:\\프로그램\\lib\\site-packages\\google_trans_new\\google_trans_new.py:188\u001b[0m, in \u001b[0;36mgoogle_translator.translate\u001b[1;34m(self, text, lang_tgt, lang_src, pronounce)\u001b[0m\n\u001b[0;32m    186\u001b[0m                         \u001b[39mreturn\u001b[39;00m [sentences, pronounce_src, pronounce_tgt]\n\u001b[0;32m    187\u001b[0m             \u001b[39mexcept\u001b[39;00m \u001b[39mException\u001b[39;00m \u001b[39mas\u001b[39;00m e:\n\u001b[1;32m--> 188\u001b[0m                 \u001b[39mraise\u001b[39;00m e\n\u001b[0;32m    189\u001b[0m     r\u001b[39m.\u001b[39mraise_for_status()\n\u001b[0;32m    190\u001b[0m \u001b[39mexcept\u001b[39;00m requests\u001b[39m.\u001b[39mexceptions\u001b[39m.\u001b[39mConnectTimeout \u001b[39mas\u001b[39;00m e:\n",
      "File \u001b[1;32mc:\\프로그램\\lib\\site-packages\\google_trans_new\\google_trans_new.py:152\u001b[0m, in \u001b[0;36mgoogle_translator.translate\u001b[1;34m(self, text, lang_tgt, lang_src, pronounce)\u001b[0m\n\u001b[0;32m    150\u001b[0m \u001b[39mtry\u001b[39;00m:\n\u001b[0;32m    151\u001b[0m     response \u001b[39m=\u001b[39m (decoded_line \u001b[39m+\u001b[39m \u001b[39m'\u001b[39m\u001b[39m]\u001b[39m\u001b[39m'\u001b[39m)\n\u001b[1;32m--> 152\u001b[0m     response \u001b[39m=\u001b[39m json\u001b[39m.\u001b[39;49mloads(response)\n\u001b[0;32m    153\u001b[0m     response \u001b[39m=\u001b[39m \u001b[39mlist\u001b[39m(response)\n\u001b[0;32m    154\u001b[0m     response \u001b[39m=\u001b[39m json\u001b[39m.\u001b[39mloads(response[\u001b[39m0\u001b[39m][\u001b[39m2\u001b[39m])\n",
      "File \u001b[1;32mc:\\프로그램\\lib\\json\\__init__.py:346\u001b[0m, in \u001b[0;36mloads\u001b[1;34m(s, cls, object_hook, parse_float, parse_int, parse_constant, object_pairs_hook, **kw)\u001b[0m\n\u001b[0;32m    341\u001b[0m     s \u001b[39m=\u001b[39m s\u001b[39m.\u001b[39mdecode(detect_encoding(s), \u001b[39m'\u001b[39m\u001b[39msurrogatepass\u001b[39m\u001b[39m'\u001b[39m)\n\u001b[0;32m    343\u001b[0m \u001b[39mif\u001b[39;00m (\u001b[39mcls\u001b[39m \u001b[39mis\u001b[39;00m \u001b[39mNone\u001b[39;00m \u001b[39mand\u001b[39;00m object_hook \u001b[39mis\u001b[39;00m \u001b[39mNone\u001b[39;00m \u001b[39mand\u001b[39;00m\n\u001b[0;32m    344\u001b[0m         parse_int \u001b[39mis\u001b[39;00m \u001b[39mNone\u001b[39;00m \u001b[39mand\u001b[39;00m parse_float \u001b[39mis\u001b[39;00m \u001b[39mNone\u001b[39;00m \u001b[39mand\u001b[39;00m\n\u001b[0;32m    345\u001b[0m         parse_constant \u001b[39mis\u001b[39;00m \u001b[39mNone\u001b[39;00m \u001b[39mand\u001b[39;00m object_pairs_hook \u001b[39mis\u001b[39;00m \u001b[39mNone\u001b[39;00m \u001b[39mand\u001b[39;00m \u001b[39mnot\u001b[39;00m kw):\n\u001b[1;32m--> 346\u001b[0m     \u001b[39mreturn\u001b[39;00m _default_decoder\u001b[39m.\u001b[39;49mdecode(s)\n\u001b[0;32m    347\u001b[0m \u001b[39mif\u001b[39;00m \u001b[39mcls\u001b[39m \u001b[39mis\u001b[39;00m \u001b[39mNone\u001b[39;00m:\n\u001b[0;32m    348\u001b[0m     \u001b[39mcls\u001b[39m \u001b[39m=\u001b[39m JSONDecoder\n",
      "File \u001b[1;32mc:\\프로그램\\lib\\json\\decoder.py:340\u001b[0m, in \u001b[0;36mJSONDecoder.decode\u001b[1;34m(self, s, _w)\u001b[0m\n\u001b[0;32m    338\u001b[0m end \u001b[39m=\u001b[39m _w(s, end)\u001b[39m.\u001b[39mend()\n\u001b[0;32m    339\u001b[0m \u001b[39mif\u001b[39;00m end \u001b[39m!=\u001b[39m \u001b[39mlen\u001b[39m(s):\n\u001b[1;32m--> 340\u001b[0m     \u001b[39mraise\u001b[39;00m JSONDecodeError(\u001b[39m\"\u001b[39m\u001b[39mExtra data\u001b[39m\u001b[39m\"\u001b[39m, s, end)\n\u001b[0;32m    341\u001b[0m \u001b[39mreturn\u001b[39;00m obj\n",
      "\u001b[1;31mJSONDecodeError\u001b[0m: Extra data: line 1 column 730 (char 729)"
     ]
    }
   ],
   "source": [
    "from google_trans_new import google_translator  \n",
    "\n",
    "translator = google_translator()  \n",
    "\n",
    "translate_text = translator.translate('안녕하세요',lang_src='ko', lang_tgt='en')  \n",
    "\n",
    "print(translate_text)"
   ]
  },
  {
   "cell_type": "code",
   "execution_count": 69,
   "metadata": {},
   "outputs": [
    {
     "ename": "AttributeError",
     "evalue": "'NoneType' object has no attribute 'group'",
     "output_type": "error",
     "traceback": [
      "\u001b[1;31m---------------------------------------------------------------------------\u001b[0m",
      "\u001b[1;31mAttributeError\u001b[0m                            Traceback (most recent call last)",
      "\u001b[1;32mc:\\Users\\dbswo\\OneDrive\\Desktop\\논문복원\\감성분석\\감성분석.ipynb Cell 6'\u001b[0m in \u001b[0;36m<module>\u001b[1;34m\u001b[0m\n\u001b[0;32m      <a href='vscode-notebook-cell:/c%3A/Users/dbswo/OneDrive/Desktop/%EB%85%BC%EB%AC%B8%EB%B3%B5%EC%9B%90/%EA%B0%90%EC%84%B1%EB%B6%84%EC%84%9D/%EA%B0%90%EC%84%B1%EB%B6%84%EC%84%9D.ipynb#ch0000006?line=0'>1</a>\u001b[0m \u001b[39mfrom\u001b[39;00m \u001b[39mgoogletrans\u001b[39;00m \u001b[39mimport\u001b[39;00m Translator\n\u001b[0;32m      <a href='vscode-notebook-cell:/c%3A/Users/dbswo/OneDrive/Desktop/%EB%85%BC%EB%AC%B8%EB%B3%B5%EC%9B%90/%EA%B0%90%EC%84%B1%EB%B6%84%EC%84%9D/%EA%B0%90%EC%84%B1%EB%B6%84%EC%84%9D.ipynb#ch0000006?line=2'>3</a>\u001b[0m translator \u001b[39m=\u001b[39m Translator()\u001b[39m#service_urls=['https://translate.google.co.kr/?hl=ko'])\u001b[39;00m\n\u001b[1;32m----> <a href='vscode-notebook-cell:/c%3A/Users/dbswo/OneDrive/Desktop/%EB%85%BC%EB%AC%B8%EB%B3%B5%EC%9B%90/%EA%B0%90%EC%84%B1%EB%B6%84%EC%84%9D/%EA%B0%90%EC%84%B1%EB%B6%84%EC%84%9D.ipynb#ch0000006?line=4'>5</a>\u001b[0m a \u001b[39m=\u001b[39m translator\u001b[39m.\u001b[39;49mtranslate(\u001b[39m'\u001b[39;49m\u001b[39mhello!!\u001b[39;49m\u001b[39m'\u001b[39;49m, src\u001b[39m=\u001b[39;49m\u001b[39m'\u001b[39;49m\u001b[39men\u001b[39;49m\u001b[39m'\u001b[39;49m, dest\u001b[39m=\u001b[39;49m\u001b[39m'\u001b[39;49m\u001b[39mja\u001b[39;49m\u001b[39m'\u001b[39;49m)\n\u001b[0;32m      <a href='vscode-notebook-cell:/c%3A/Users/dbswo/OneDrive/Desktop/%EB%85%BC%EB%AC%B8%EB%B3%B5%EC%9B%90/%EA%B0%90%EC%84%B1%EB%B6%84%EC%84%9D/%EA%B0%90%EC%84%B1%EB%B6%84%EC%84%9D.ipynb#ch0000006?line=6'>7</a>\u001b[0m \u001b[39mprint\u001b[39m(a\u001b[39m.\u001b[39mtext)\n",
      "File \u001b[1;32mc:\\프로그램\\lib\\site-packages\\googletrans\\client.py:182\u001b[0m, in \u001b[0;36mTranslator.translate\u001b[1;34m(self, text, dest, src, **kwargs)\u001b[0m\n\u001b[0;32m    179\u001b[0m     \u001b[39mreturn\u001b[39;00m result\n\u001b[0;32m    181\u001b[0m origin \u001b[39m=\u001b[39m text\n\u001b[1;32m--> 182\u001b[0m data \u001b[39m=\u001b[39m \u001b[39mself\u001b[39;49m\u001b[39m.\u001b[39;49m_translate(text, dest, src, kwargs)\n\u001b[0;32m    184\u001b[0m \u001b[39m# this code will be updated when the format is changed.\u001b[39;00m\n\u001b[0;32m    185\u001b[0m translated \u001b[39m=\u001b[39m \u001b[39m'\u001b[39m\u001b[39m'\u001b[39m\u001b[39m.\u001b[39mjoin([d[\u001b[39m0\u001b[39m] \u001b[39mif\u001b[39;00m d[\u001b[39m0\u001b[39m] \u001b[39melse\u001b[39;00m \u001b[39m'\u001b[39m\u001b[39m'\u001b[39m \u001b[39mfor\u001b[39;00m d \u001b[39min\u001b[39;00m data[\u001b[39m0\u001b[39m]])\n",
      "File \u001b[1;32mc:\\프로그램\\lib\\site-packages\\googletrans\\client.py:78\u001b[0m, in \u001b[0;36mTranslator._translate\u001b[1;34m(self, text, dest, src, override)\u001b[0m\n\u001b[0;32m     77\u001b[0m \u001b[39mdef\u001b[39;00m \u001b[39m_translate\u001b[39m(\u001b[39mself\u001b[39m, text, dest, src, override):\n\u001b[1;32m---> 78\u001b[0m     token \u001b[39m=\u001b[39m \u001b[39mself\u001b[39;49m\u001b[39m.\u001b[39;49mtoken_acquirer\u001b[39m.\u001b[39;49mdo(text)\n\u001b[0;32m     79\u001b[0m     params \u001b[39m=\u001b[39m utils\u001b[39m.\u001b[39mbuild_params(query\u001b[39m=\u001b[39mtext, src\u001b[39m=\u001b[39msrc, dest\u001b[39m=\u001b[39mdest,\n\u001b[0;32m     80\u001b[0m                                 token\u001b[39m=\u001b[39mtoken, override\u001b[39m=\u001b[39moverride)\n\u001b[0;32m     82\u001b[0m     url \u001b[39m=\u001b[39m urls\u001b[39m.\u001b[39mTRANSLATE\u001b[39m.\u001b[39mformat(host\u001b[39m=\u001b[39m\u001b[39mself\u001b[39m\u001b[39m.\u001b[39m_pick_service_url())\n",
      "File \u001b[1;32mc:\\프로그램\\lib\\site-packages\\googletrans\\gtoken.py:194\u001b[0m, in \u001b[0;36mTokenAcquirer.do\u001b[1;34m(self, text)\u001b[0m\n\u001b[0;32m    193\u001b[0m \u001b[39mdef\u001b[39;00m \u001b[39mdo\u001b[39m(\u001b[39mself\u001b[39m, text):\n\u001b[1;32m--> 194\u001b[0m     \u001b[39mself\u001b[39;49m\u001b[39m.\u001b[39;49m_update()\n\u001b[0;32m    195\u001b[0m     tk \u001b[39m=\u001b[39m \u001b[39mself\u001b[39m\u001b[39m.\u001b[39macquire(text)\n\u001b[0;32m    196\u001b[0m     \u001b[39mreturn\u001b[39;00m tk\n",
      "File \u001b[1;32mc:\\프로그램\\lib\\site-packages\\googletrans\\gtoken.py:62\u001b[0m, in \u001b[0;36mTokenAcquirer._update\u001b[1;34m(self)\u001b[0m\n\u001b[0;32m     59\u001b[0m     \u001b[39mreturn\u001b[39;00m\n\u001b[0;32m     61\u001b[0m \u001b[39m# this will be the same as python code after stripping out a reserved word 'var'\u001b[39;00m\n\u001b[1;32m---> 62\u001b[0m code \u001b[39m=\u001b[39m \u001b[39mself\u001b[39;49m\u001b[39m.\u001b[39;49mRE_TKK\u001b[39m.\u001b[39;49msearch(r\u001b[39m.\u001b[39;49mtext)\u001b[39m.\u001b[39;49mgroup(\u001b[39m1\u001b[39m)\u001b[39m.\u001b[39mreplace(\u001b[39m'\u001b[39m\u001b[39mvar \u001b[39m\u001b[39m'\u001b[39m, \u001b[39m'\u001b[39m\u001b[39m'\u001b[39m)\n\u001b[0;32m     63\u001b[0m \u001b[39m# unescape special ascii characters such like a \\x3d(=)\u001b[39;00m\n\u001b[0;32m     64\u001b[0m code \u001b[39m=\u001b[39m code\u001b[39m.\u001b[39mencode()\u001b[39m.\u001b[39mdecode(\u001b[39m'\u001b[39m\u001b[39municode-escape\u001b[39m\u001b[39m'\u001b[39m)\n",
      "\u001b[1;31mAttributeError\u001b[0m: 'NoneType' object has no attribute 'group'"
     ]
    }
   ],
   "source": [
    "from googletrans import Translator\n",
    "\n",
    "translator = Translator()#service_urls=['https://translate.google.co.kr/?hl=ko'])\n",
    "\n",
    "a = translator.translate('hello!!', src='en', dest='ja')\n",
    "\n",
    "print(a.text)"
   ]
  },
  {
   "cell_type": "code",
   "execution_count": null,
   "metadata": {},
   "outputs": [],
   "source": []
  }
 ],
 "metadata": {
  "kernelspec": {
   "display_name": "Python 3.10.2 64-bit (system)",
   "language": "python",
   "name": "python3"
  },
  "language_info": {
   "codemirror_mode": {
    "name": "ipython",
    "version": 3
   },
   "file_extension": ".py",
   "mimetype": "text/x-python",
   "name": "python",
   "nbconvert_exporter": "python",
   "pygments_lexer": "ipython3",
   "version": "3.10.2"
  },
  "orig_nbformat": 4,
  "vscode": {
   "interpreter": {
    "hash": "dc0be73154618f58c692376fe46a96bfb7aea1860fce4c5a4dc26143c6655afc"
   }
  }
 },
 "nbformat": 4,
 "nbformat_minor": 2
}
